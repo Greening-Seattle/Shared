{
 "cells": [
  {
   "cell_type": "code",
   "execution_count": 5,
   "metadata": {},
   "outputs": [],
   "source": [
    "import pandas as pd    \n",
    "import geopandas as gpd\n",
    "from geopandas.tools import geocode\n",
    "import numpy as np\n",
    "import scipy.stats as stats\n",
    "import scipy\n",
    "import seaborn as sns\n",
    "import matplotlib \n",
    "from matplotlib import pyplot as plt\n",
    "matplotlib.rcParams.update({'font.size': 20})"
   ]
  },
  {
   "cell_type": "code",
   "execution_count": 6,
   "metadata": {},
   "outputs": [],
   "source": [
    "import urllib.request as request"
   ]
  },
  {
   "cell_type": "markdown",
   "metadata": {},
   "source": [
    "**Imports all traffic data from 2007 - 2018**\n",
    "\n",
    "Link: https://data.seattle.gov/browse?q=traffic%20flow%20count&sortBy=relevance to download yearly data"
   ]
  },
  {
   "cell_type": "code",
   "execution_count": 7,
   "metadata": {},
   "outputs": [],
   "source": [
    "url_list = ['https://opendata.arcgis.com/datasets/7015d5d46a284f94ac05c2ea4358bcd7_0.geojson',\n",
    "            'https://opendata.arcgis.com/datasets/5fc63b2a48474100b560a7d98b5097d7_1.geojson',\n",
    "            'https://opendata.arcgis.com/datasets/27af9a2485c5442bb061fa7e881d7022_2.geojson',\n",
    "            'https://opendata.arcgis.com/datasets/4f62515558174f53979b3be0335004d3_3.geojson',\n",
    "            'https://opendata.arcgis.com/datasets/29f801d03c9b4b608bca6a8e497278c3_4.geojson',\n",
    "            'https://opendata.arcgis.com/datasets/a0019dd0d6464747a88921f5e103d509_5.geojson',\n",
    "            'https://opendata.arcgis.com/datasets/40bcfbc4054549ebba8b5777bbdd40ff_6.geojson',\n",
    "            'https://opendata.arcgis.com/datasets/16cedd233d914118a275c6510115d466_7.geojson',\n",
    "            'https://opendata.arcgis.com/datasets/902fd604ecf54adf8579894508cacc68_8.geojson',\n",
    "            'https://opendata.arcgis.com/datasets/170b764c52f34c9497720c0463f3b58b_9.geojson',\n",
    "            'https://opendata.arcgis.com/datasets/2c37babc94d64bbb938a9b520bc5538c_10.geojson',\n",
    "            'https://opendata.arcgis.com/datasets/a35aa9249110472ba2c69cc574eff984_11.geojson']\n",
    "    "
   ]
  },
  {
   "cell_type": "code",
   "execution_count": 28,
   "metadata": {},
   "outputs": [],
   "source": [
    "def get_gdf(year):\n",
    "    '''Enter the desired year to download the traffic flow count\n",
    "    data for that year. Example: enter '7' for the year 2007.\n",
    "    '''\n",
    "    num = year-7\n",
    "    gdf_year = gpd.read_file(url_list[num])\n",
    "    if year == 11:\n",
    "        gdf_year = gdf_year.rename(columns={\"YEAR_\" : 'YEAR'})\n",
    "        gdf_year = gdf_year[gdf_year.STNAME != '16TH AVE S']\n",
    "    if year == 12:\n",
    "        gdf_year = gdf_year.rename(columns={'STDY_YEAR' : 'YEAR'})\n",
    "        gdf_year = gdf_year[gdf_year.YEAR.notnull()]\n",
    "    if year == 15 or year == 16:\n",
    "        gdf_year = gdf_year.rename(columns={\"COUNTAAWDT\" : 'AAWDT', \"FLOWSEGID\" : \"GEOBASID\", 'FIRST_STNAME_ORD' : 'STNAME'})\n",
    "        gdf_year = gdf_year[['AAWDT', 'GEOBASID', 'STNAME', 'SHAPE_Length', 'geometry']]\n",
    "        if year == 15:\n",
    "            year_list = [2015]*len(gdf_year)\n",
    "            gdf_year['YEAR'] = year_list\n",
    "        elif year == 16:\n",
    "            year_list = [2016]*len(gdf_year)\n",
    "            gdf_year['YEAR'] = year_list\n",
    "    elif year == 17 or year == 18:\n",
    "        gdf_year = gdf_year.rename(columns={\"AWDT\" : 'AAWDT', \"FLOWSEGID\" : \"GEOBASID\", 'STNAME_ORD' : 'STNAME'})\n",
    "        gdf_year = gdf_year[['AAWDT', 'GEOBASID', 'STNAME', 'SHAPE_Length', 'geometry']]\n",
    "        if year == 17:\n",
    "            year_list = [2017]*len(gdf_year)\n",
    "            gdf_year['YEAR'] = year_list\n",
    "        elif year == 18:\n",
    "            year_list = [2018]*len(gdf_year)\n",
    "            gdf_year['YEAR'] = year_list\n",
    "    #df_year_AAWDT = df_year['AAWDT'].values\n",
    "    #df_year_geobase = df_year['GEOBASID'].values\n",
    "    #df_year_dist = df_year['SHAPE_Length'].values\n",
    "    gdf_year = gdf_year[[ 'YEAR', 'AAWDT', 'GEOBASID', 'STNAME', 'SHAPE_Length', 'geometry']]\n",
    "    gdf_year = gdf_year[gdf_year.YEAR != 0]\n",
    "    gdf_year = gdf_year[gdf_year.YEAR.notnull()]\n",
    "    return gdf_year #, df_year_AAWDT, df_year_geobase, df_year_dist"
   ]
  },
  {
   "cell_type": "code",
   "execution_count": 24,
   "metadata": {},
   "outputs": [],
   "source": [
    "gdf_12 = get_gdf(12)"
   ]
  },
  {
   "cell_type": "code",
   "execution_count": 25,
   "metadata": {},
   "outputs": [
    {
     "data": {
      "text/plain": [
       "array([2012.])"
      ]
     },
     "execution_count": 25,
     "metadata": {},
     "output_type": "execute_result"
    }
   ],
   "source": [
    "gdf_12['YEAR'].unique()"
   ]
  },
  {
   "cell_type": "code",
   "execution_count": 29,
   "metadata": {},
   "outputs": [
    {
     "data": {
      "text/html": [
       "<div>\n",
       "<style scoped>\n",
       "    .dataframe tbody tr th:only-of-type {\n",
       "        vertical-align: middle;\n",
       "    }\n",
       "\n",
       "    .dataframe tbody tr th {\n",
       "        vertical-align: top;\n",
       "    }\n",
       "\n",
       "    .dataframe thead th {\n",
       "        text-align: right;\n",
       "    }\n",
       "</style>\n",
       "<table border=\"1\" class=\"dataframe\">\n",
       "  <thead>\n",
       "    <tr style=\"text-align: right;\">\n",
       "      <th></th>\n",
       "      <th>YEAR</th>\n",
       "      <th>AAWDT</th>\n",
       "      <th>GEOBASID</th>\n",
       "      <th>STNAME</th>\n",
       "      <th>SHAPE_Length</th>\n",
       "      <th>geometry</th>\n",
       "    </tr>\n",
       "  </thead>\n",
       "  <tbody>\n",
       "    <tr>\n",
       "      <th>0</th>\n",
       "      <td>2007.0</td>\n",
       "      <td>7200.0</td>\n",
       "      <td>94250370.0</td>\n",
       "      <td>RENTON AVE S</td>\n",
       "      <td>4615.134504</td>\n",
       "      <td>LINESTRING (-122.28064 47.53541, -122.28056 47...</td>\n",
       "    </tr>\n",
       "    <tr>\n",
       "      <th>1</th>\n",
       "      <td>2007.0</td>\n",
       "      <td>13100.0</td>\n",
       "      <td>50000650.0</td>\n",
       "      <td>AIRPORT WAY S</td>\n",
       "      <td>18205.478931</td>\n",
       "      <td>MULTILINESTRING ((-122.29348 47.52408, -122.29...</td>\n",
       "    </tr>\n",
       "    <tr>\n",
       "      <th>2</th>\n",
       "      <td>2007.0</td>\n",
       "      <td>28300.0</td>\n",
       "      <td>127150040.0</td>\n",
       "      <td>N NORTHGATE WAY</td>\n",
       "      <td>4267.857028</td>\n",
       "      <td>LINESTRING (-122.34469 47.70505, -122.34334 47...</td>\n",
       "    </tr>\n",
       "    <tr>\n",
       "      <th>3</th>\n",
       "      <td>2007.0</td>\n",
       "      <td>8200.0</td>\n",
       "      <td>123450090.0</td>\n",
       "      <td>N 65TH ST</td>\n",
       "      <td>12341.641545</td>\n",
       "      <td>LINESTRING (-122.34831 47.67606, -122.34990 47...</td>\n",
       "    </tr>\n",
       "    <tr>\n",
       "      <th>4</th>\n",
       "      <td>2007.0</td>\n",
       "      <td>12400.0</td>\n",
       "      <td>9550200.0</td>\n",
       "      <td>2ND AVE</td>\n",
       "      <td>4161.475805</td>\n",
       "      <td>LINESTRING (-122.34045 47.61096, -122.34165 47...</td>\n",
       "    </tr>\n",
       "  </tbody>\n",
       "</table>\n",
       "</div>"
      ],
      "text/plain": [
       "     YEAR    AAWDT     GEOBASID           STNAME  SHAPE_Length  \\\n",
       "0  2007.0   7200.0   94250370.0     RENTON AVE S   4615.134504   \n",
       "1  2007.0  13100.0   50000650.0    AIRPORT WAY S  18205.478931   \n",
       "2  2007.0  28300.0  127150040.0  N NORTHGATE WAY   4267.857028   \n",
       "3  2007.0   8200.0  123450090.0        N 65TH ST  12341.641545   \n",
       "4  2007.0  12400.0    9550200.0          2ND AVE   4161.475805   \n",
       "\n",
       "                                            geometry  \n",
       "0  LINESTRING (-122.28064 47.53541, -122.28056 47...  \n",
       "1  MULTILINESTRING ((-122.29348 47.52408, -122.29...  \n",
       "2  LINESTRING (-122.34469 47.70505, -122.34334 47...  \n",
       "3  LINESTRING (-122.34831 47.67606, -122.34990 47...  \n",
       "4  LINESTRING (-122.34045 47.61096, -122.34165 47...  "
      ]
     },
     "execution_count": 29,
     "metadata": {},
     "output_type": "execute_result"
    }
   ],
   "source": [
    "year_list = [7, 8, 9, 10, 11, 12, 13, 14, 15, 16, 17, 18]\n",
    "agg_year_data = gpd.GeoDataFrame()\n",
    "for year in year_list:\n",
    "    agg_year_data = agg_year_data.append(get_gdf(year))\n",
    "agg_year_data.head()"
   ]
  },
  {
   "cell_type": "code",
   "execution_count": 30,
   "metadata": {},
   "outputs": [
    {
     "data": {
      "text/plain": [
       "array([2007., 2008., 2009., 2010., 2011., 2012., 2013., 2014., 2015.,\n",
       "       2016., 2017., 2018.])"
      ]
     },
     "execution_count": 30,
     "metadata": {},
     "output_type": "execute_result"
    }
   ],
   "source": [
    "agg_year_data['YEAR'].unique()"
   ]
  },
  {
   "cell_type": "code",
   "execution_count": 8,
   "metadata": {},
   "outputs": [],
   "source": [
    "import altair as alt"
   ]
  },
  {
   "cell_type": "code",
   "execution_count": 9,
   "metadata": {
    "scrolled": true
   },
   "outputs": [
    {
     "ename": "MaxRowsError",
     "evalue": "The number of rows in your dataset is greater than the maximum allowed (5000). For information on how to plot larger datasets in Altair, see the documentation",
     "output_type": "error",
     "traceback": [
      "\u001b[0;31m---------------------------------------------------------------------------\u001b[0m",
      "\u001b[0;31mMaxRowsError\u001b[0m                              Traceback (most recent call last)",
      "\u001b[0;32m~/anaconda3/lib/python3.8/site-packages/altair/vegalite/v4/api.py\u001b[0m in \u001b[0;36mto_dict\u001b[0;34m(self, *args, **kwargs)\u001b[0m\n\u001b[1;32m    361\u001b[0m         \u001b[0mcopy\u001b[0m \u001b[0;34m=\u001b[0m \u001b[0mself\u001b[0m\u001b[0;34m.\u001b[0m\u001b[0mcopy\u001b[0m\u001b[0;34m(\u001b[0m\u001b[0mdeep\u001b[0m\u001b[0;34m=\u001b[0m\u001b[0;32mFalse\u001b[0m\u001b[0;34m)\u001b[0m\u001b[0;34m\u001b[0m\u001b[0;34m\u001b[0m\u001b[0m\n\u001b[1;32m    362\u001b[0m         \u001b[0moriginal_data\u001b[0m \u001b[0;34m=\u001b[0m \u001b[0mgetattr\u001b[0m\u001b[0;34m(\u001b[0m\u001b[0mcopy\u001b[0m\u001b[0;34m,\u001b[0m \u001b[0;34m\"data\"\u001b[0m\u001b[0;34m,\u001b[0m \u001b[0mUndefined\u001b[0m\u001b[0;34m)\u001b[0m\u001b[0;34m\u001b[0m\u001b[0;34m\u001b[0m\u001b[0m\n\u001b[0;32m--> 363\u001b[0;31m         \u001b[0mcopy\u001b[0m\u001b[0;34m.\u001b[0m\u001b[0mdata\u001b[0m \u001b[0;34m=\u001b[0m \u001b[0m_prepare_data\u001b[0m\u001b[0;34m(\u001b[0m\u001b[0moriginal_data\u001b[0m\u001b[0;34m,\u001b[0m \u001b[0mcontext\u001b[0m\u001b[0;34m)\u001b[0m\u001b[0;34m\u001b[0m\u001b[0;34m\u001b[0m\u001b[0m\n\u001b[0m\u001b[1;32m    364\u001b[0m \u001b[0;34m\u001b[0m\u001b[0m\n\u001b[1;32m    365\u001b[0m         \u001b[0;32mif\u001b[0m \u001b[0moriginal_data\u001b[0m \u001b[0;32mis\u001b[0m \u001b[0;32mnot\u001b[0m \u001b[0mUndefined\u001b[0m\u001b[0;34m:\u001b[0m\u001b[0;34m\u001b[0m\u001b[0;34m\u001b[0m\u001b[0m\n",
      "\u001b[0;32m~/anaconda3/lib/python3.8/site-packages/altair/vegalite/v4/api.py\u001b[0m in \u001b[0;36m_prepare_data\u001b[0;34m(data, context)\u001b[0m\n\u001b[1;32m     82\u001b[0m     \u001b[0;31m# convert dataframes  or objects with __geo_interface__ to dict\u001b[0m\u001b[0;34m\u001b[0m\u001b[0;34m\u001b[0m\u001b[0;34m\u001b[0m\u001b[0m\n\u001b[1;32m     83\u001b[0m     \u001b[0;32mif\u001b[0m \u001b[0misinstance\u001b[0m\u001b[0;34m(\u001b[0m\u001b[0mdata\u001b[0m\u001b[0;34m,\u001b[0m \u001b[0mpd\u001b[0m\u001b[0;34m.\u001b[0m\u001b[0mDataFrame\u001b[0m\u001b[0;34m)\u001b[0m \u001b[0;32mor\u001b[0m \u001b[0mhasattr\u001b[0m\u001b[0;34m(\u001b[0m\u001b[0mdata\u001b[0m\u001b[0;34m,\u001b[0m \u001b[0;34m\"__geo_interface__\"\u001b[0m\u001b[0;34m)\u001b[0m\u001b[0;34m:\u001b[0m\u001b[0;34m\u001b[0m\u001b[0;34m\u001b[0m\u001b[0m\n\u001b[0;32m---> 84\u001b[0;31m         \u001b[0mdata\u001b[0m \u001b[0;34m=\u001b[0m \u001b[0m_pipe\u001b[0m\u001b[0;34m(\u001b[0m\u001b[0mdata\u001b[0m\u001b[0;34m,\u001b[0m \u001b[0mdata_transformers\u001b[0m\u001b[0;34m.\u001b[0m\u001b[0mget\u001b[0m\u001b[0;34m(\u001b[0m\u001b[0;34m)\u001b[0m\u001b[0;34m)\u001b[0m\u001b[0;34m\u001b[0m\u001b[0;34m\u001b[0m\u001b[0m\n\u001b[0m\u001b[1;32m     85\u001b[0m \u001b[0;34m\u001b[0m\u001b[0m\n\u001b[1;32m     86\u001b[0m     \u001b[0;31m# convert string input to a URLData\u001b[0m\u001b[0;34m\u001b[0m\u001b[0;34m\u001b[0m\u001b[0;34m\u001b[0m\u001b[0m\n",
      "\u001b[0;32m~/anaconda3/lib/python3.8/site-packages/toolz/functoolz.py\u001b[0m in \u001b[0;36mpipe\u001b[0;34m(data, *funcs)\u001b[0m\n\u001b[1;32m    625\u001b[0m     \"\"\"\n\u001b[1;32m    626\u001b[0m     \u001b[0;32mfor\u001b[0m \u001b[0mfunc\u001b[0m \u001b[0;32min\u001b[0m \u001b[0mfuncs\u001b[0m\u001b[0;34m:\u001b[0m\u001b[0;34m\u001b[0m\u001b[0;34m\u001b[0m\u001b[0m\n\u001b[0;32m--> 627\u001b[0;31m         \u001b[0mdata\u001b[0m \u001b[0;34m=\u001b[0m \u001b[0mfunc\u001b[0m\u001b[0;34m(\u001b[0m\u001b[0mdata\u001b[0m\u001b[0;34m)\u001b[0m\u001b[0;34m\u001b[0m\u001b[0;34m\u001b[0m\u001b[0m\n\u001b[0m\u001b[1;32m    628\u001b[0m     \u001b[0;32mreturn\u001b[0m \u001b[0mdata\u001b[0m\u001b[0;34m\u001b[0m\u001b[0;34m\u001b[0m\u001b[0m\n\u001b[1;32m    629\u001b[0m \u001b[0;34m\u001b[0m\u001b[0m\n",
      "\u001b[0;32m~/anaconda3/lib/python3.8/site-packages/toolz/functoolz.py\u001b[0m in \u001b[0;36m__call__\u001b[0;34m(self, *args, **kwargs)\u001b[0m\n\u001b[1;32m    301\u001b[0m     \u001b[0;32mdef\u001b[0m \u001b[0m__call__\u001b[0m\u001b[0;34m(\u001b[0m\u001b[0mself\u001b[0m\u001b[0;34m,\u001b[0m \u001b[0;34m*\u001b[0m\u001b[0margs\u001b[0m\u001b[0;34m,\u001b[0m \u001b[0;34m**\u001b[0m\u001b[0mkwargs\u001b[0m\u001b[0;34m)\u001b[0m\u001b[0;34m:\u001b[0m\u001b[0;34m\u001b[0m\u001b[0;34m\u001b[0m\u001b[0m\n\u001b[1;32m    302\u001b[0m         \u001b[0;32mtry\u001b[0m\u001b[0;34m:\u001b[0m\u001b[0;34m\u001b[0m\u001b[0;34m\u001b[0m\u001b[0m\n\u001b[0;32m--> 303\u001b[0;31m             \u001b[0;32mreturn\u001b[0m \u001b[0mself\u001b[0m\u001b[0;34m.\u001b[0m\u001b[0m_partial\u001b[0m\u001b[0;34m(\u001b[0m\u001b[0;34m*\u001b[0m\u001b[0margs\u001b[0m\u001b[0;34m,\u001b[0m \u001b[0;34m**\u001b[0m\u001b[0mkwargs\u001b[0m\u001b[0;34m)\u001b[0m\u001b[0;34m\u001b[0m\u001b[0;34m\u001b[0m\u001b[0m\n\u001b[0m\u001b[1;32m    304\u001b[0m         \u001b[0;32mexcept\u001b[0m \u001b[0mTypeError\u001b[0m \u001b[0;32mas\u001b[0m \u001b[0mexc\u001b[0m\u001b[0;34m:\u001b[0m\u001b[0;34m\u001b[0m\u001b[0;34m\u001b[0m\u001b[0m\n\u001b[1;32m    305\u001b[0m             \u001b[0;32mif\u001b[0m \u001b[0mself\u001b[0m\u001b[0;34m.\u001b[0m\u001b[0m_should_curry\u001b[0m\u001b[0;34m(\u001b[0m\u001b[0margs\u001b[0m\u001b[0;34m,\u001b[0m \u001b[0mkwargs\u001b[0m\u001b[0;34m,\u001b[0m \u001b[0mexc\u001b[0m\u001b[0;34m)\u001b[0m\u001b[0;34m:\u001b[0m\u001b[0;34m\u001b[0m\u001b[0;34m\u001b[0m\u001b[0m\n",
      "\u001b[0;32m~/anaconda3/lib/python3.8/site-packages/altair/vegalite/data.py\u001b[0m in \u001b[0;36mdefault_data_transformer\u001b[0;34m(data, max_rows)\u001b[0m\n\u001b[1;32m     17\u001b[0m \u001b[0;34m@\u001b[0m\u001b[0mcurried\u001b[0m\u001b[0;34m.\u001b[0m\u001b[0mcurry\u001b[0m\u001b[0;34m\u001b[0m\u001b[0;34m\u001b[0m\u001b[0m\n\u001b[1;32m     18\u001b[0m \u001b[0;32mdef\u001b[0m \u001b[0mdefault_data_transformer\u001b[0m\u001b[0;34m(\u001b[0m\u001b[0mdata\u001b[0m\u001b[0;34m,\u001b[0m \u001b[0mmax_rows\u001b[0m\u001b[0;34m=\u001b[0m\u001b[0;36m5000\u001b[0m\u001b[0;34m)\u001b[0m\u001b[0;34m:\u001b[0m\u001b[0;34m\u001b[0m\u001b[0;34m\u001b[0m\u001b[0m\n\u001b[0;32m---> 19\u001b[0;31m     \u001b[0;32mreturn\u001b[0m \u001b[0mcurried\u001b[0m\u001b[0;34m.\u001b[0m\u001b[0mpipe\u001b[0m\u001b[0;34m(\u001b[0m\u001b[0mdata\u001b[0m\u001b[0;34m,\u001b[0m \u001b[0mlimit_rows\u001b[0m\u001b[0;34m(\u001b[0m\u001b[0mmax_rows\u001b[0m\u001b[0;34m=\u001b[0m\u001b[0mmax_rows\u001b[0m\u001b[0;34m)\u001b[0m\u001b[0;34m,\u001b[0m \u001b[0mto_values\u001b[0m\u001b[0;34m)\u001b[0m\u001b[0;34m\u001b[0m\u001b[0;34m\u001b[0m\u001b[0m\n\u001b[0m\u001b[1;32m     20\u001b[0m \u001b[0;34m\u001b[0m\u001b[0m\n\u001b[1;32m     21\u001b[0m \u001b[0;34m\u001b[0m\u001b[0m\n",
      "\u001b[0;32m~/anaconda3/lib/python3.8/site-packages/toolz/functoolz.py\u001b[0m in \u001b[0;36mpipe\u001b[0;34m(data, *funcs)\u001b[0m\n\u001b[1;32m    625\u001b[0m     \"\"\"\n\u001b[1;32m    626\u001b[0m     \u001b[0;32mfor\u001b[0m \u001b[0mfunc\u001b[0m \u001b[0;32min\u001b[0m \u001b[0mfuncs\u001b[0m\u001b[0;34m:\u001b[0m\u001b[0;34m\u001b[0m\u001b[0;34m\u001b[0m\u001b[0m\n\u001b[0;32m--> 627\u001b[0;31m         \u001b[0mdata\u001b[0m \u001b[0;34m=\u001b[0m \u001b[0mfunc\u001b[0m\u001b[0;34m(\u001b[0m\u001b[0mdata\u001b[0m\u001b[0;34m)\u001b[0m\u001b[0;34m\u001b[0m\u001b[0;34m\u001b[0m\u001b[0m\n\u001b[0m\u001b[1;32m    628\u001b[0m     \u001b[0;32mreturn\u001b[0m \u001b[0mdata\u001b[0m\u001b[0;34m\u001b[0m\u001b[0;34m\u001b[0m\u001b[0m\n\u001b[1;32m    629\u001b[0m \u001b[0;34m\u001b[0m\u001b[0m\n",
      "\u001b[0;32m~/anaconda3/lib/python3.8/site-packages/toolz/functoolz.py\u001b[0m in \u001b[0;36m__call__\u001b[0;34m(self, *args, **kwargs)\u001b[0m\n\u001b[1;32m    301\u001b[0m     \u001b[0;32mdef\u001b[0m \u001b[0m__call__\u001b[0m\u001b[0;34m(\u001b[0m\u001b[0mself\u001b[0m\u001b[0;34m,\u001b[0m \u001b[0;34m*\u001b[0m\u001b[0margs\u001b[0m\u001b[0;34m,\u001b[0m \u001b[0;34m**\u001b[0m\u001b[0mkwargs\u001b[0m\u001b[0;34m)\u001b[0m\u001b[0;34m:\u001b[0m\u001b[0;34m\u001b[0m\u001b[0;34m\u001b[0m\u001b[0m\n\u001b[1;32m    302\u001b[0m         \u001b[0;32mtry\u001b[0m\u001b[0;34m:\u001b[0m\u001b[0;34m\u001b[0m\u001b[0;34m\u001b[0m\u001b[0m\n\u001b[0;32m--> 303\u001b[0;31m             \u001b[0;32mreturn\u001b[0m \u001b[0mself\u001b[0m\u001b[0;34m.\u001b[0m\u001b[0m_partial\u001b[0m\u001b[0;34m(\u001b[0m\u001b[0;34m*\u001b[0m\u001b[0margs\u001b[0m\u001b[0;34m,\u001b[0m \u001b[0;34m**\u001b[0m\u001b[0mkwargs\u001b[0m\u001b[0;34m)\u001b[0m\u001b[0;34m\u001b[0m\u001b[0;34m\u001b[0m\u001b[0m\n\u001b[0m\u001b[1;32m    304\u001b[0m         \u001b[0;32mexcept\u001b[0m \u001b[0mTypeError\u001b[0m \u001b[0;32mas\u001b[0m \u001b[0mexc\u001b[0m\u001b[0;34m:\u001b[0m\u001b[0;34m\u001b[0m\u001b[0;34m\u001b[0m\u001b[0m\n\u001b[1;32m    305\u001b[0m             \u001b[0;32mif\u001b[0m \u001b[0mself\u001b[0m\u001b[0;34m.\u001b[0m\u001b[0m_should_curry\u001b[0m\u001b[0;34m(\u001b[0m\u001b[0margs\u001b[0m\u001b[0;34m,\u001b[0m \u001b[0mkwargs\u001b[0m\u001b[0;34m,\u001b[0m \u001b[0mexc\u001b[0m\u001b[0;34m)\u001b[0m\u001b[0;34m:\u001b[0m\u001b[0;34m\u001b[0m\u001b[0;34m\u001b[0m\u001b[0m\n",
      "\u001b[0;32m~/anaconda3/lib/python3.8/site-packages/altair/utils/data.py\u001b[0m in \u001b[0;36mlimit_rows\u001b[0;34m(data, max_rows)\u001b[0m\n\u001b[1;32m     78\u001b[0m             \u001b[0;32mreturn\u001b[0m \u001b[0mdata\u001b[0m\u001b[0;34m\u001b[0m\u001b[0;34m\u001b[0m\u001b[0m\n\u001b[1;32m     79\u001b[0m     \u001b[0;32mif\u001b[0m \u001b[0mmax_rows\u001b[0m \u001b[0;32mis\u001b[0m \u001b[0;32mnot\u001b[0m \u001b[0;32mNone\u001b[0m \u001b[0;32mand\u001b[0m \u001b[0mlen\u001b[0m\u001b[0;34m(\u001b[0m\u001b[0mvalues\u001b[0m\u001b[0;34m)\u001b[0m \u001b[0;34m>\u001b[0m \u001b[0mmax_rows\u001b[0m\u001b[0;34m:\u001b[0m\u001b[0;34m\u001b[0m\u001b[0;34m\u001b[0m\u001b[0m\n\u001b[0;32m---> 80\u001b[0;31m         raise MaxRowsError(\n\u001b[0m\u001b[1;32m     81\u001b[0m             \u001b[0;34m\"The number of rows in your dataset is greater \"\u001b[0m\u001b[0;34m\u001b[0m\u001b[0;34m\u001b[0m\u001b[0m\n\u001b[1;32m     82\u001b[0m             \u001b[0;34m\"than the maximum allowed ({}). \"\u001b[0m\u001b[0;34m\u001b[0m\u001b[0;34m\u001b[0m\u001b[0m\n",
      "\u001b[0;31mMaxRowsError\u001b[0m: The number of rows in your dataset is greater than the maximum allowed (5000). For information on how to plot larger datasets in Altair, see the documentation"
     ]
    },
    {
     "data": {
      "text/plain": [
       "alt.Chart(...)"
      ]
     },
     "execution_count": 9,
     "metadata": {},
     "output_type": "execute_result"
    }
   ],
   "source": [
    "alt.Chart(agg_year_data).mark_bar().encode(\n",
    "    alt.X('Year'),\n",
    "    y='AAWdT'\n",
    "    # could also use alt.Y(aggregate='count', type='quantitative')\n",
    ")"
   ]
  },
  {
   "cell_type": "code",
   "execution_count": 17,
   "metadata": {},
   "outputs": [],
   "source": [
    "montlake_br_traffic_07 = df_07.loc[df_07['STNAME']=='MONTLAKE BR']"
   ]
  },
  {
   "cell_type": "code",
   "execution_count": 19,
   "metadata": {},
   "outputs": [
    {
     "data": {
      "text/html": [
       "<div>\n",
       "<style scoped>\n",
       "    .dataframe tbody tr th:only-of-type {\n",
       "        vertical-align: middle;\n",
       "    }\n",
       "\n",
       "    .dataframe tbody tr th {\n",
       "        vertical-align: top;\n",
       "    }\n",
       "\n",
       "    .dataframe thead th {\n",
       "        text-align: right;\n",
       "    }\n",
       "</style>\n",
       "<table border=\"1\" class=\"dataframe\">\n",
       "  <thead>\n",
       "    <tr style=\"text-align: right;\">\n",
       "      <th></th>\n",
       "      <th>OBJECTID</th>\n",
       "      <th>GEOBASID</th>\n",
       "      <th>DOWNTOWN</th>\n",
       "      <th>COMPKEY</th>\n",
       "      <th>STNAME</th>\n",
       "      <th>OID_</th>\n",
       "      <th>NAME</th>\n",
       "      <th>YEAR</th>\n",
       "      <th>SEGKEY</th>\n",
       "      <th>AAWDT</th>\n",
       "      <th>INPUT_STUD</th>\n",
       "      <th>HPMS</th>\n",
       "      <th>FLOW_COUNT</th>\n",
       "      <th>SHAPE_Length</th>\n",
       "    </tr>\n",
       "  </thead>\n",
       "  <tbody>\n",
       "    <tr>\n",
       "      <th>197</th>\n",
       "      <td>198</td>\n",
       "      <td>86850010</td>\n",
       "      <td>N</td>\n",
       "      <td>11902</td>\n",
       "      <td>MONTLAKE BR</td>\n",
       "      <td>83</td>\n",
       "      <td>MONTLAKE BR, S/O POINT A</td>\n",
       "      <td>2007</td>\n",
       "      <td>11902</td>\n",
       "      <td>57203</td>\n",
       "      <td>0</td>\n",
       "      <td></td>\n",
       "      <td>Y</td>\n",
       "      <td>1362.081215</td>\n",
       "    </tr>\n",
       "  </tbody>\n",
       "</table>\n",
       "</div>"
      ],
      "text/plain": [
       "     OBJECTID  GEOBASID DOWNTOWN  COMPKEY       STNAME  OID_  \\\n",
       "197       198  86850010        N    11902  MONTLAKE BR    83   \n",
       "\n",
       "                         NAME  YEAR  SEGKEY  AAWDT  INPUT_STUD HPMS  \\\n",
       "197  MONTLAKE BR, S/O POINT A  2007   11902  57203           0        \n",
       "\n",
       "    FLOW_COUNT  SHAPE_Length  \n",
       "197          Y   1362.081215  "
      ]
     },
     "execution_count": 19,
     "metadata": {},
     "output_type": "execute_result"
    }
   ],
   "source": [
    "montlake_br_traffic_07"
   ]
  },
  {
   "cell_type": "code",
   "execution_count": 49,
   "metadata": {},
   "outputs": [],
   "source": [
    "df_048 = get_df(8)"
   ]
  },
  {
   "cell_type": "code",
   "execution_count": 10,
   "metadata": {},
   "outputs": [],
   "source": [
    "def get_st_data(year_list, stname_list):\n",
    "    '''Enter a list of the desired years and street name (as a list of strings) to download the traffic flow count\n",
    "    data for that year. Example: enter '7' for the year 2007. Make sure to enter a list even if only requesting a single \n",
    "    year or street name.'''\n",
    "    all_data = gpd.GeoDataFrame()\n",
    "    for i in range(len(year_list)):\n",
    "        year = year_list[i]\n",
    "        gdf_year = get_gdf(year)\n",
    "        all_data = all_data.append(gdf_year)\n",
    "    st_data_year = gpd.GeoDataFrame()\n",
    "    for j in range(len(stname_list)):\n",
    "        st_data_year = st_data_year.append(all_data.loc[all_data['STNAME'] == stname_list[j]])\n",
    "    return st_data_year"
   ]
  },
  {
   "cell_type": "code",
   "execution_count": 129,
   "metadata": {},
   "outputs": [],
   "source": [
    "montlake_br_data_08 = get_st_data([8, 12], ['MONTLAKE BLVD NE', 'MONTLAKE BR'])"
   ]
  },
  {
   "cell_type": "code",
   "execution_count": 130,
   "metadata": {},
   "outputs": [
    {
     "data": {
      "text/html": [
       "<div>\n",
       "<style scoped>\n",
       "    .dataframe tbody tr th:only-of-type {\n",
       "        vertical-align: middle;\n",
       "    }\n",
       "\n",
       "    .dataframe tbody tr th {\n",
       "        vertical-align: top;\n",
       "    }\n",
       "\n",
       "    .dataframe thead th {\n",
       "        text-align: right;\n",
       "    }\n",
       "</style>\n",
       "<table border=\"1\" class=\"dataframe\">\n",
       "  <thead>\n",
       "    <tr style=\"text-align: right;\">\n",
       "      <th></th>\n",
       "      <th>YEAR</th>\n",
       "      <th>AAWDT</th>\n",
       "      <th>GEOBASID</th>\n",
       "      <th>STNAME</th>\n",
       "      <th>SHAPE_Length</th>\n",
       "      <th>geometry</th>\n",
       "    </tr>\n",
       "  </thead>\n",
       "  <tbody>\n",
       "    <tr>\n",
       "      <th>149</th>\n",
       "      <td>2008.0</td>\n",
       "      <td>46100.0</td>\n",
       "      <td>86950030.0</td>\n",
       "      <td>MONTLAKE BLVD NE</td>\n",
       "      <td>3751.859475</td>\n",
       "      <td>LINESTRING (-122.30459 47.64900, -122.30458 47...</td>\n",
       "    </tr>\n",
       "    <tr>\n",
       "      <th>108</th>\n",
       "      <td>2012.0</td>\n",
       "      <td>42312.0</td>\n",
       "      <td>86950030.0</td>\n",
       "      <td>MONTLAKE BLVD NE</td>\n",
       "      <td>2966.829559</td>\n",
       "      <td>LINESTRING (-122.30391 47.65108, -122.30345 47...</td>\n",
       "    </tr>\n",
       "    <tr>\n",
       "      <th>198</th>\n",
       "      <td>2008.0</td>\n",
       "      <td>57100.0</td>\n",
       "      <td>86850010.0</td>\n",
       "      <td>MONTLAKE BR</td>\n",
       "      <td>1362.081215</td>\n",
       "      <td>LINESTRING (-122.30462 47.64526, -122.30461 47...</td>\n",
       "    </tr>\n",
       "    <tr>\n",
       "      <th>140</th>\n",
       "      <td>2012.0</td>\n",
       "      <td>55764.0</td>\n",
       "      <td>86850010.0</td>\n",
       "      <td>MONTLAKE BR</td>\n",
       "      <td>2147.111130</td>\n",
       "      <td>LINESTRING (-122.30462 47.64526, -122.30461 47...</td>\n",
       "    </tr>\n",
       "  </tbody>\n",
       "</table>\n",
       "</div>"
      ],
      "text/plain": [
       "       YEAR    AAWDT    GEOBASID            STNAME  SHAPE_Length  \\\n",
       "149  2008.0  46100.0  86950030.0  MONTLAKE BLVD NE   3751.859475   \n",
       "108  2012.0  42312.0  86950030.0  MONTLAKE BLVD NE   2966.829559   \n",
       "198  2008.0  57100.0  86850010.0       MONTLAKE BR   1362.081215   \n",
       "140  2012.0  55764.0  86850010.0       MONTLAKE BR   2147.111130   \n",
       "\n",
       "                                              geometry  \n",
       "149  LINESTRING (-122.30459 47.64900, -122.30458 47...  \n",
       "108  LINESTRING (-122.30391 47.65108, -122.30345 47...  \n",
       "198  LINESTRING (-122.30462 47.64526, -122.30461 47...  \n",
       "140  LINESTRING (-122.30462 47.64526, -122.30461 47...  "
      ]
     },
     "execution_count": 130,
     "metadata": {},
     "output_type": "execute_result"
    }
   ],
   "source": [
    "montlake_br_data_08"
   ]
  },
  {
   "cell_type": "code",
   "execution_count": 11,
   "metadata": {},
   "outputs": [],
   "source": [
    "montlake_blvd_allyear = get_st_data(year_list, ['MONTLAKE BLVD NE'])"
   ]
  },
  {
   "cell_type": "code",
   "execution_count": 14,
   "metadata": {},
   "outputs": [
    {
     "data": {
      "text/html": [
       "<div>\n",
       "<style scoped>\n",
       "    .dataframe tbody tr th:only-of-type {\n",
       "        vertical-align: middle;\n",
       "    }\n",
       "\n",
       "    .dataframe tbody tr th {\n",
       "        vertical-align: top;\n",
       "    }\n",
       "\n",
       "    .dataframe thead th {\n",
       "        text-align: right;\n",
       "    }\n",
       "</style>\n",
       "<table border=\"1\" class=\"dataframe\">\n",
       "  <thead>\n",
       "    <tr style=\"text-align: right;\">\n",
       "      <th></th>\n",
       "      <th>AAWDT</th>\n",
       "      <th>GEOBASID</th>\n",
       "      <th>SHAPE_Length</th>\n",
       "    </tr>\n",
       "  </thead>\n",
       "  <tbody>\n",
       "    <tr>\n",
       "      <th>count</th>\n",
       "      <td>24.000000</td>\n",
       "      <td>2.400000e+01</td>\n",
       "      <td>24.000000</td>\n",
       "    </tr>\n",
       "    <tr>\n",
       "      <th>mean</th>\n",
       "      <td>40428.816917</td>\n",
       "      <td>2.898427e+07</td>\n",
       "      <td>1989.032606</td>\n",
       "    </tr>\n",
       "    <tr>\n",
       "      <th>std</th>\n",
       "      <td>5569.503125</td>\n",
       "      <td>4.186954e+07</td>\n",
       "      <td>1430.923947</td>\n",
       "    </tr>\n",
       "    <tr>\n",
       "      <th>min</th>\n",
       "      <td>31500.000000</td>\n",
       "      <td>1.312000e+03</td>\n",
       "      <td>495.856467</td>\n",
       "    </tr>\n",
       "    <tr>\n",
       "      <th>25%</th>\n",
       "      <td>36000.000000</td>\n",
       "      <td>1.412000e+03</td>\n",
       "      <td>575.275702</td>\n",
       "    </tr>\n",
       "    <tr>\n",
       "      <th>50%</th>\n",
       "      <td>40906.000000</td>\n",
       "      <td>1.425500e+03</td>\n",
       "      <td>1875.929737</td>\n",
       "    </tr>\n",
       "    <tr>\n",
       "      <th>75%</th>\n",
       "      <td>44925.000000</td>\n",
       "      <td>8.695003e+07</td>\n",
       "      <td>3163.087038</td>\n",
       "    </tr>\n",
       "    <tr>\n",
       "      <th>max</th>\n",
       "      <td>48400.000000</td>\n",
       "      <td>8.695003e+07</td>\n",
       "      <td>3751.859475</td>\n",
       "    </tr>\n",
       "  </tbody>\n",
       "</table>\n",
       "</div>"
      ],
      "text/plain": [
       "              AAWDT      GEOBASID  SHAPE_Length\n",
       "count     24.000000  2.400000e+01     24.000000\n",
       "mean   40428.816917  2.898427e+07   1989.032606\n",
       "std     5569.503125  4.186954e+07   1430.923947\n",
       "min    31500.000000  1.312000e+03    495.856467\n",
       "25%    36000.000000  1.412000e+03    575.275702\n",
       "50%    40906.000000  1.425500e+03   1875.929737\n",
       "75%    44925.000000  8.695003e+07   3163.087038\n",
       "max    48400.000000  8.695003e+07   3751.859475"
      ]
     },
     "execution_count": 14,
     "metadata": {},
     "output_type": "execute_result"
    }
   ],
   "source": [
    "montlake_blvd_allyear.describe()"
   ]
  },
  {
   "cell_type": "code",
   "execution_count": 21,
   "metadata": {},
   "outputs": [
    {
     "data": {
      "text/html": [
       "\n",
       "<div id=\"altair-viz-fe9cee2b2a7b4f6687fe3973aa79ef47\"></div>\n",
       "<script type=\"text/javascript\">\n",
       "  (function(spec, embedOpt){\n",
       "    let outputDiv = document.currentScript.previousElementSibling;\n",
       "    if (outputDiv.id !== \"altair-viz-fe9cee2b2a7b4f6687fe3973aa79ef47\") {\n",
       "      outputDiv = document.getElementById(\"altair-viz-fe9cee2b2a7b4f6687fe3973aa79ef47\");\n",
       "    }\n",
       "    const paths = {\n",
       "      \"vega\": \"https://cdn.jsdelivr.net/npm//vega@5?noext\",\n",
       "      \"vega-lib\": \"https://cdn.jsdelivr.net/npm//vega-lib?noext\",\n",
       "      \"vega-lite\": \"https://cdn.jsdelivr.net/npm//vega-lite@4.8.1?noext\",\n",
       "      \"vega-embed\": \"https://cdn.jsdelivr.net/npm//vega-embed@6?noext\",\n",
       "    };\n",
       "\n",
       "    function loadScript(lib) {\n",
       "      return new Promise(function(resolve, reject) {\n",
       "        var s = document.createElement('script');\n",
       "        s.src = paths[lib];\n",
       "        s.async = true;\n",
       "        s.onload = () => resolve(paths[lib]);\n",
       "        s.onerror = () => reject(`Error loading script: ${paths[lib]}`);\n",
       "        document.getElementsByTagName(\"head\")[0].appendChild(s);\n",
       "      });\n",
       "    }\n",
       "\n",
       "    function showError(err) {\n",
       "      outputDiv.innerHTML = `<div class=\"error\" style=\"color:red;\">${err}</div>`;\n",
       "      throw err;\n",
       "    }\n",
       "\n",
       "    function displayChart(vegaEmbed) {\n",
       "      vegaEmbed(outputDiv, spec, embedOpt)\n",
       "        .catch(err => showError(`Javascript Error: ${err.message}<br>This usually means there's a typo in your chart specification. See the javascript console for the full traceback.`));\n",
       "    }\n",
       "\n",
       "    if(typeof define === \"function\" && define.amd) {\n",
       "      requirejs.config({paths});\n",
       "      require([\"vega-embed\"], displayChart, err => showError(`Error loading script: ${err.message}`));\n",
       "    } else if (typeof vegaEmbed === \"function\") {\n",
       "      displayChart(vegaEmbed);\n",
       "    } else {\n",
       "      loadScript(\"vega\")\n",
       "        .then(() => loadScript(\"vega-lite\"))\n",
       "        .then(() => loadScript(\"vega-embed\"))\n",
       "        .catch(showError)\n",
       "        .then(() => displayChart(vegaEmbed));\n",
       "    }\n",
       "  })({\"config\": {\"view\": {\"continuousWidth\": 400, \"continuousHeight\": 300}}, \"data\": {\"name\": \"data-ea66f6dd6ea5c28f3ecd5ef5e72058d9\"}, \"mark\": \"bar\", \"encoding\": {\"x\": {\"type\": \"ordinal\", \"field\": \"YEAR\"}, \"y\": {\"type\": \"ordinal\", \"field\": \"AAWDT\"}}, \"$schema\": \"https://vega.github.io/schema/vega-lite/v4.8.1.json\", \"datasets\": {\"data-ea66f6dd6ea5c28f3ecd5ef5e72058d9\": [{\"AAWDT\": 46000.0, \"GEOBASID\": 86950030.0, \"SHAPE_Length\": 3751.859474552788, \"STNAME\": \"MONTLAKE BLVD NE\", \"YEAR\": 2007.0, \"type\": \"Feature\", \"geometry\": {\"type\": \"LineString\", \"coordinates\": [[-122.30459125914417, 47.64899740419272], [-122.3045836883283, 47.64928253502831], [-122.30456750353846, 47.649476895912386], [-122.30453761142633, 47.64962820628305], [-122.30448502363392, 47.649810553698075], [-122.30442802652347, 47.64998548056601], [-122.30425000336639, 47.65046225735659], [-122.30409870461125, 47.650755368109394], [-122.30390736015777, 47.65108341988585], [-122.30344789274316, 47.6518906973153], [-122.30314670938593, 47.65241444322427], [-122.30312081491566, 47.65247047617091], [-122.30301592112262, 47.65273695285384], [-122.30280483948327, 47.653401497170435], [-122.30252643321425, 47.65433405025577], [-122.30232963229373, 47.65499323296254], [-122.30206639414263, 47.655874919947735], [-122.30113876116849, 47.658981683109005]]}}, {\"AAWDT\": 46100.0, \"GEOBASID\": 86950030.0, \"SHAPE_Length\": 3751.859474552788, \"STNAME\": \"MONTLAKE BLVD NE\", \"YEAR\": 2008.0, \"type\": \"Feature\", \"geometry\": {\"type\": \"LineString\", \"coordinates\": [[-122.30459125914417, 47.64899740419272], [-122.3045836883283, 47.64928253502831], [-122.30456750353846, 47.649476895912386], [-122.30453761142633, 47.64962820628305], [-122.30448502363392, 47.649810553698075], [-122.30442802652347, 47.64998548056601], [-122.30425000336639, 47.65046225735659], [-122.30409870461125, 47.650755368109394], [-122.30390736015777, 47.65108341988585], [-122.30344789274316, 47.6518906973153], [-122.30314670938593, 47.65241444322427], [-122.30312081491566, 47.65247047617091], [-122.30301592112262, 47.65273695285384], [-122.30280483948327, 47.653401497170435], [-122.30252643321425, 47.65433405025577], [-122.30232963229373, 47.65499323296254], [-122.30206639414263, 47.655874919947735], [-122.30113876116849, 47.658981683109005]]}}, {\"AAWDT\": 47800.0, \"GEOBASID\": 86950030.0, \"SHAPE_Length\": 3751.859474552788, \"STNAME\": \"MONTLAKE BLVD NE\", \"YEAR\": 2009.0, \"type\": \"Feature\", \"geometry\": {\"type\": \"LineString\", \"coordinates\": [[-122.30459125914417, 47.64899740419272], [-122.3045836883283, 47.64928253502831], [-122.30456750353846, 47.649476895912386], [-122.30453761142633, 47.64962820628305], [-122.30448502363392, 47.649810553698075], [-122.30442802652347, 47.64998548056601], [-122.30425000336639, 47.65046225735659], [-122.30409870461125, 47.650755368109394], [-122.30390736015777, 47.65108341988585], [-122.30344789274316, 47.6518906973153], [-122.30314670938593, 47.65241444322427], [-122.30312081491566, 47.65247047617091], [-122.30301592112262, 47.65273695285384], [-122.30280483948327, 47.653401497170435], [-122.30252643321425, 47.65433405025577], [-122.30232963229373, 47.65499323296254], [-122.30206639414263, 47.655874919947735], [-122.30113876116849, 47.658981683109005]]}}, {\"AAWDT\": 45900.0, \"GEOBASID\": 86950030.0, \"SHAPE_Length\": 3751.859474552788, \"STNAME\": \"MONTLAKE BLVD NE\", \"YEAR\": 2010.0, \"type\": \"Feature\", \"geometry\": {\"type\": \"LineString\", \"coordinates\": [[-122.30459125914417, 47.64899740419272], [-122.3045836883283, 47.64928253502831], [-122.30456750353846, 47.649476895912386], [-122.30453761142633, 47.64962820628305], [-122.30448502363392, 47.649810553698075], [-122.30442802652347, 47.64998548056601], [-122.30425000336639, 47.65046225735659], [-122.30409870461125, 47.650755368109394], [-122.30390736015777, 47.65108341988585], [-122.30344789274316, 47.6518906973153], [-122.30314670938593, 47.65241444322427], [-122.30312081491566, 47.65247047617091], [-122.30301592112262, 47.65273695285384], [-122.30280483948327, 47.653401497170435], [-122.30252643321425, 47.65433405025577], [-122.30232963229373, 47.65499323296254], [-122.30206639414263, 47.655874919947735], [-122.30113876116849, 47.658981683109005]]}}, {\"AAWDT\": 46800.0, \"GEOBASID\": 86950030.0, \"SHAPE_Length\": 2966.829558848948, \"STNAME\": \"MONTLAKE BLVD NE\", \"YEAR\": 2011.0, \"type\": \"Feature\", \"geometry\": {\"type\": \"LineString\", \"coordinates\": [[-122.30390736015777, 47.65108341988581], [-122.30344789274322, 47.65189069731523], [-122.30314670938606, 47.652414443224224], [-122.30312081491576, 47.6524704761709], [-122.3030159211227, 47.65273695285379], [-122.30280483948333, 47.653401497170435], [-122.30252643321425, 47.654334050255684], [-122.30232963229378, 47.65499323296254], [-122.30206639414268, 47.65587491994765], [-122.30113876116862, 47.65898168310896]]}}, {\"AAWDT\": 42312.0, \"GEOBASID\": 86950030.0, \"SHAPE_Length\": 2966.829558848948, \"STNAME\": \"MONTLAKE BLVD NE\", \"YEAR\": 2012.0, \"type\": \"Feature\", \"geometry\": {\"type\": \"LineString\", \"coordinates\": [[-122.30390736015777, 47.65108341988581], [-122.30344789274322, 47.65189069731523], [-122.30314670938606, 47.652414443224224], [-122.30312081491576, 47.6524704761709], [-122.3030159211227, 47.65273695285379], [-122.30280483948333, 47.653401497170435], [-122.30252643321425, 47.654334050255684], [-122.30232963229378, 47.65499323296254], [-122.30206639414268, 47.65587491994765], [-122.30113876116862, 47.65898168310896]]}}, {\"AAWDT\": 44600.0, \"GEOBASID\": 86950030.0, \"SHAPE_Length\": 3751.859474567874, \"STNAME\": \"MONTLAKE BLVD NE\", \"YEAR\": 2013.0, \"type\": \"Feature\", \"geometry\": {\"type\": \"LineString\", \"coordinates\": [[-122.3045912591443, 47.64899740419265], [-122.30458368832835, 47.64928253502823], [-122.30456750353859, 47.649476895912336], [-122.30453761142643, 47.649628206283005], [-122.30448502363392, 47.64981055369799], [-122.30442802652357, 47.649985480565974], [-122.30425000336652, 47.65046225735654], [-122.30409870461143, 47.65075536810941], [-122.30390736015777, 47.65108341988581], [-122.30344789274322, 47.65189069731523], [-122.30314670938606, 47.652414443224224], [-122.30312081491576, 47.6524704761709], [-122.3030159211227, 47.65273695285379], [-122.30280483948333, 47.653401497170435], [-122.30252643321425, 47.654334050255684], [-122.30232963229378, 47.65499323296254], [-122.30206639414268, 47.65587491994765], [-122.30113876116862, 47.65898168310896]]}}, {\"AAWDT\": 48400.0, \"GEOBASID\": 86950030.0, \"SHAPE_Length\": 3751.859474567874, \"STNAME\": \"MONTLAKE BLVD NE\", \"YEAR\": 2014.0, \"type\": \"Feature\", \"geometry\": {\"type\": \"LineString\", \"coordinates\": [[-122.3045912591443, 47.64899740419265], [-122.30458368832835, 47.64928253502823], [-122.30456750353859, 47.649476895912336], [-122.30453761142643, 47.649628206283005], [-122.30448502363392, 47.64981055369799], [-122.30442802652357, 47.649985480565974], [-122.30425000336652, 47.65046225735654], [-122.30409870461143, 47.65075536810941], [-122.30390736015777, 47.65108341988581], [-122.30344789274322, 47.65189069731523], [-122.30314670938606, 47.652414443224224], [-122.30312081491576, 47.6524704761709], [-122.3030159211227, 47.65273695285379], [-122.30280483948333, 47.653401497170435], [-122.30252643321425, 47.654334050255684], [-122.30232963229378, 47.65499323296254], [-122.30206639414268, 47.65587491994765], [-122.30113876116862, 47.65898168310896]]}}, {\"AAWDT\": 43594.803, \"GEOBASID\": 1412.0, \"SHAPE_Length\": 2966.8295588489477, \"STNAME\": \"MONTLAKE BLVD NE\", \"YEAR\": \"2015\", \"type\": \"Feature\", \"geometry\": {\"type\": \"LineString\", \"coordinates\": [[-122.30113876116862, 47.65898168310896], [-122.30206639414268, 47.65587491994765], [-122.30232963229378, 47.65499323296254], [-122.30252643321425, 47.654334050255684], [-122.30280483948333, 47.653401497170435], [-122.3030159211227, 47.65273695285379], [-122.30312081491576, 47.6524704761709], [-122.30314670938606, 47.652414443224224], [-122.30344789274322, 47.65189069731523], [-122.30390736015777, 47.65108341988581]]}}, {\"AAWDT\": 31500.0, \"GEOBASID\": 1423.0, \"SHAPE_Length\": 575.2757023091679, \"STNAME\": \"MONTLAKE BLVD NE\", \"YEAR\": \"2015\", \"type\": \"Feature\", \"geometry\": {\"type\": \"LineString\", \"coordinates\": [[-122.3000095516817, 47.66034957714211], [-122.30004239180593, 47.66032712936475], [-122.30016768795387, 47.660225256375334], [-122.30028611034824, 47.66011891350392], [-122.30039791882264, 47.660017213064094], [-122.30050059298281, 47.6599173789941], [-122.30053465672424, 47.65988003593444], [-122.30060006647078, 47.65980427019032], [-122.30062959239723, 47.65976830706984], [-122.30068467721841, 47.65969797922324], [-122.30071548448369, 47.65965627811946], [-122.30076877312337, 47.65957940539542], [-122.30079345654175, 47.65954181427277], [-122.30081890037034, 47.65950144438002], [-122.30083888418066, 47.65946846037333], [-122.30086550182742, 47.65942250502581], [-122.3009058831526, 47.65934784872684], [-122.30113876116862, 47.65898168310896]]}}, {\"AAWDT\": 36000.0, \"GEOBASID\": 1428.0, \"SHAPE_Length\": 495.85646736910076, \"STNAME\": \"MONTLAKE BLVD NE\", \"YEAR\": \"2015\", \"type\": \"Feature\", \"geometry\": {\"type\": \"LineString\", \"coordinates\": [[-122.29834152748981, 47.66108778791399], [-122.29847344989673, 47.66105216804032], [-122.29854144931666, 47.66103372954416], [-122.2986459026074, 47.66100357165071], [-122.2987562181693, 47.660969138908875], [-122.29881092620141, 47.660951109648906], [-122.29884779713028, 47.66093826755927], [-122.29897900075792, 47.660892245281204], [-122.29909235488454, 47.6608452138074], [-122.29925901267957, 47.66077471114662], [-122.2993817002899, 47.6607189734789], [-122.29946548678022, 47.66068090797428], [-122.2996036261296, 47.660605165589104], [-122.2996535378706, 47.660577108657435], [-122.29974835394026, 47.66052126160566], [-122.3000095516817, 47.66034957714211]]}}, {\"AAWDT\": 39500.0, \"GEOBASID\": 1312.0, \"SHAPE_Length\": 785.0299157189262, \"STNAME\": \"MONTLAKE BLVD NE\", \"YEAR\": \"2015\", \"type\": \"Feature\", \"geometry\": {\"type\": \"LineString\", \"coordinates\": [[-122.3045912591443, 47.64899740419265], [-122.30458368832835, 47.64928253502823], [-122.30456750353859, 47.649476895912336], [-122.30453761142643, 47.649628206283005], [-122.30448502363392, 47.64981055369799], [-122.30442802652357, 47.649985480565974], [-122.30425000336652, 47.65046225735654], [-122.30409870461143, 47.65075536810941], [-122.30390736015777, 47.65108341988581]]}}, {\"AAWDT\": 43594.803, \"GEOBASID\": 1412.0, \"SHAPE_Length\": 2966.8295588489477, \"STNAME\": \"MONTLAKE BLVD NE\", \"YEAR\": \"2016\", \"type\": \"Feature\", \"geometry\": {\"type\": \"LineString\", \"coordinates\": [[-122.30113876116862, 47.65898168310896], [-122.30206639414268, 47.65587491994765], [-122.30232963229378, 47.65499323296254], [-122.30252643321425, 47.654334050255684], [-122.30280483948333, 47.653401497170435], [-122.3030159211227, 47.65273695285379], [-122.30312081491576, 47.6524704761709], [-122.30314670938606, 47.652414443224224], [-122.30344789274322, 47.65189069731523], [-122.30390736015777, 47.65108341988581]]}}, {\"AAWDT\": 31500.0, \"GEOBASID\": 1423.0, \"SHAPE_Length\": 575.2757023091679, \"STNAME\": \"MONTLAKE BLVD NE\", \"YEAR\": \"2016\", \"type\": \"Feature\", \"geometry\": {\"type\": \"LineString\", \"coordinates\": [[-122.3000095516817, 47.66034957714211], [-122.30004239180593, 47.66032712936475], [-122.30016768795387, 47.660225256375334], [-122.30028611034824, 47.66011891350392], [-122.30039791882264, 47.660017213064094], [-122.30050059298281, 47.6599173789941], [-122.30053465672424, 47.65988003593444], [-122.30060006647078, 47.65980427019032], [-122.30062959239723, 47.65976830706984], [-122.30068467721841, 47.65969797922324], [-122.30071548448369, 47.65965627811946], [-122.30076877312337, 47.65957940539542], [-122.30079345654175, 47.65954181427277], [-122.30081890037034, 47.65950144438002], [-122.30083888418066, 47.65946846037333], [-122.30086550182742, 47.65942250502581], [-122.3009058831526, 47.65934784872684], [-122.30113876116862, 47.65898168310896]]}}, {\"AAWDT\": 36000.0, \"GEOBASID\": 1428.0, \"SHAPE_Length\": 495.85646736910076, \"STNAME\": \"MONTLAKE BLVD NE\", \"YEAR\": \"2016\", \"type\": \"Feature\", \"geometry\": {\"type\": \"LineString\", \"coordinates\": [[-122.29834152748981, 47.66108778791399], [-122.29847344989673, 47.66105216804032], [-122.29854144931666, 47.66103372954416], [-122.2986459026074, 47.66100357165071], [-122.2987562181693, 47.660969138908875], [-122.29881092620141, 47.660951109648906], [-122.29884779713028, 47.66093826755927], [-122.29897900075792, 47.660892245281204], [-122.29909235488454, 47.6608452138074], [-122.29925901267957, 47.66077471114662], [-122.2993817002899, 47.6607189734789], [-122.29946548678022, 47.66068090797428], [-122.2996036261296, 47.660605165589104], [-122.2996535378706, 47.660577108657435], [-122.29974835394026, 47.66052126160566], [-122.3000095516817, 47.66034957714211]]}}, {\"AAWDT\": 39500.0, \"GEOBASID\": 1312.0, \"SHAPE_Length\": 785.0299157189262, \"STNAME\": \"MONTLAKE BLVD NE\", \"YEAR\": \"2016\", \"type\": \"Feature\", \"geometry\": {\"type\": \"LineString\", \"coordinates\": [[-122.3045912591443, 47.64899740419265], [-122.30458368832835, 47.64928253502823], [-122.30456750353859, 47.649476895912336], [-122.30453761142643, 47.649628206283005], [-122.30448502363392, 47.64981055369799], [-122.30442802652357, 47.649985480565974], [-122.30425000336652, 47.65046225735654], [-122.30409870461143, 47.65075536810941], [-122.30390736015777, 47.65108341988581]]}}, {\"AAWDT\": 36000.0, \"GEOBASID\": 1428.0, \"SHAPE_Length\": 495.85646736910076, \"STNAME\": \"MONTLAKE BLVD NE\", \"YEAR\": \"2017\", \"type\": \"Feature\", \"geometry\": {\"type\": \"MultiLineString\", \"coordinates\": [[[-122.29946548678022, 47.66068090797428], [-122.2993817002899, 47.6607189734789], [-122.29925901267957, 47.66077471114662], [-122.29909235488454, 47.6608452138074], [-122.29897900075792, 47.660892245281204], [-122.29884779713028, 47.66093826755927], [-122.29881092620141, 47.660951109648906], [-122.2987562181693, 47.660969138908875], [-122.2986459026074, 47.66100357165071], [-122.29854144931666, 47.66103372954416], [-122.29847344989673, 47.66105216804032], [-122.29834152748981, 47.66108778791399]], [[-122.3000095516817, 47.66034957714211], [-122.29974835394026, 47.66052126160566], [-122.2996535378706, 47.660577108657435], [-122.2996036261296, 47.660605165589104], [-122.29946548678022, 47.66068090797428]]]}}, {\"AAWDT\": 39500.0, \"GEOBASID\": 1312.0, \"SHAPE_Length\": 785.0299157189262, \"STNAME\": \"MONTLAKE BLVD NE\", \"YEAR\": \"2017\", \"type\": \"Feature\", \"geometry\": {\"type\": \"LineString\", \"coordinates\": [[-122.3045912591443, 47.64899740419265], [-122.30458368832835, 47.64928253502823], [-122.30456750353859, 47.649476895912336], [-122.30453761142643, 47.649628206283005], [-122.30448502363392, 47.64981055369799], [-122.30442802652357, 47.649985480565974], [-122.30425000336652, 47.65046225735654], [-122.30409870461143, 47.65075536810941], [-122.30390736015777, 47.65108341988581]]}}, {\"AAWDT\": 31500.0, \"GEOBASID\": 1423.0, \"SHAPE_Length\": 575.2757023091679, \"STNAME\": \"MONTLAKE BLVD NE\", \"YEAR\": \"2017\", \"type\": \"Feature\", \"geometry\": {\"type\": \"LineString\", \"coordinates\": [[-122.30113876116862, 47.65898168310896], [-122.3009058831526, 47.65934784872684], [-122.30086550182742, 47.65942250502581], [-122.30083888418066, 47.65946846037333], [-122.30081890037034, 47.65950144438002], [-122.30079345654175, 47.65954181427277], [-122.30076877312337, 47.65957940539542], [-122.30071548448369, 47.65965627811946], [-122.30068467721841, 47.65969797922324], [-122.30062959239723, 47.65976830706984], [-122.30060006647078, 47.65980427019032], [-122.30053465672424, 47.65988003593444], [-122.30050059298281, 47.6599173789941], [-122.30039791882264, 47.660017213064094], [-122.30028611034824, 47.66011891350392], [-122.30016768795387, 47.660225256375334], [-122.30004239180593, 47.66032712936475], [-122.3000095516817, 47.66034957714211]]}}, {\"AAWDT\": 43595.0, \"GEOBASID\": 1412.0, \"SHAPE_Length\": 2966.829558848948, \"STNAME\": \"MONTLAKE BLVD NE\", \"YEAR\": \"2017\", \"type\": \"Feature\", \"geometry\": {\"type\": \"LineString\", \"coordinates\": [[-122.30390736015777, 47.65108341988581], [-122.30344789274322, 47.65189069731523], [-122.30314670938606, 47.652414443224224], [-122.30312081491576, 47.6524704761709], [-122.3030159211227, 47.65273695285379], [-122.30280483948333, 47.653401497170435], [-122.30252643321425, 47.654334050255684], [-122.30232963229378, 47.65499323296254], [-122.30206639414268, 47.65587491994765], [-122.30113876116862, 47.65898168310896]]}}, {\"AAWDT\": 36000.0, \"GEOBASID\": 1428.0, \"SHAPE_Length\": 495.85646736910076, \"STNAME\": \"MONTLAKE BLVD NE\", \"YEAR\": \"2016\", \"type\": \"Feature\", \"geometry\": {\"type\": \"MultiLineString\", \"coordinates\": [[[-122.29946548678022, 47.66068090797428], [-122.2993817002899, 47.6607189734789], [-122.29925901267957, 47.66077471114662], [-122.29909235488454, 47.6608452138074], [-122.29897900075792, 47.660892245281204], [-122.29884779713028, 47.66093826755927], [-122.29881092620141, 47.660951109648906], [-122.2987562181693, 47.660969138908875], [-122.2986459026074, 47.66100357165071], [-122.29854144931666, 47.66103372954416], [-122.29847344989673, 47.66105216804032], [-122.29834152748981, 47.66108778791399]], [[-122.3000095516817, 47.66034957714211], [-122.29974835394026, 47.66052126160566], [-122.2996535378706, 47.660577108657435], [-122.2996036261296, 47.660605165589104], [-122.29946548678022, 47.66068090797428]]]}}, {\"AAWDT\": 39500.0, \"GEOBASID\": 1312.0, \"SHAPE_Length\": 785.0299157189262, \"STNAME\": \"MONTLAKE BLVD NE\", \"YEAR\": \"2016\", \"type\": \"Feature\", \"geometry\": {\"type\": \"LineString\", \"coordinates\": [[-122.3045912591443, 47.64899740419265], [-122.30458368832835, 47.64928253502823], [-122.30456750353859, 47.649476895912336], [-122.30453761142643, 47.649628206283005], [-122.30448502363392, 47.64981055369799], [-122.30442802652357, 47.649985480565974], [-122.30425000336652, 47.65046225735654], [-122.30409870461143, 47.65075536810941], [-122.30390736015777, 47.65108341988581]]}}, {\"AAWDT\": 31500.0, \"GEOBASID\": 1423.0, \"SHAPE_Length\": 575.2757023091679, \"STNAME\": \"MONTLAKE BLVD NE\", \"YEAR\": \"2016\", \"type\": \"Feature\", \"geometry\": {\"type\": \"LineString\", \"coordinates\": [[-122.30113876116862, 47.65898168310896], [-122.3009058831526, 47.65934784872684], [-122.30086550182742, 47.65942250502581], [-122.30083888418066, 47.65946846037333], [-122.30081890037034, 47.65950144438002], [-122.30079345654175, 47.65954181427277], [-122.30076877312337, 47.65957940539542], [-122.30071548448369, 47.65965627811946], [-122.30068467721841, 47.65969797922324], [-122.30062959239723, 47.65976830706984], [-122.30060006647078, 47.65980427019032], [-122.30053465672424, 47.65988003593444], [-122.30050059298281, 47.6599173789941], [-122.30039791882264, 47.660017213064094], [-122.30028611034824, 47.66011891350392], [-122.30016768795387, 47.660225256375334], [-122.30004239180593, 47.66032712936475], [-122.3000095516817, 47.66034957714211]]}}, {\"AAWDT\": 43595.0, \"GEOBASID\": 1412.0, \"SHAPE_Length\": 2966.829558848948, \"STNAME\": \"MONTLAKE BLVD NE\", \"YEAR\": \"2016\", \"type\": \"Feature\", \"geometry\": {\"type\": \"LineString\", \"coordinates\": [[-122.30390736015777, 47.65108341988581], [-122.30344789274322, 47.65189069731523], [-122.30314670938606, 47.652414443224224], [-122.30312081491576, 47.6524704761709], [-122.3030159211227, 47.65273695285379], [-122.30280483948333, 47.653401497170435], [-122.30252643321425, 47.654334050255684], [-122.30232963229378, 47.65499323296254], [-122.30206639414268, 47.65587491994765], [-122.30113876116862, 47.65898168310896]]}}]}}, {\"mode\": \"vega-lite\"});\n",
       "</script>"
      ],
      "text/plain": [
       "alt.Chart(...)"
      ]
     },
     "execution_count": 21,
     "metadata": {},
     "output_type": "execute_result"
    }
   ],
   "source": [
    "alt.Chart(montlake_blvd_allyear).mark_bar().encode(\n",
    "    alt.X('YEAR:O'),\n",
    "    y ='AAWDT:O'\n",
    "    # could also use alt.Y(aggregate='count', type='quantitative')\n",
    ")"
   ]
  },
  {
   "cell_type": "code",
   "execution_count": null,
   "metadata": {},
   "outputs": [],
   "source": []
  }
 ],
 "metadata": {
  "kernelspec": {
   "display_name": "Python 3",
   "language": "python",
   "name": "python3"
  },
  "language_info": {
   "codemirror_mode": {
    "name": "ipython",
    "version": 3
   },
   "file_extension": ".py",
   "mimetype": "text/x-python",
   "name": "python",
   "nbconvert_exporter": "python",
   "pygments_lexer": "ipython3",
   "version": "3.8.8"
  }
 },
 "nbformat": 4,
 "nbformat_minor": 4
}

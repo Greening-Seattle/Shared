{
 "cells": [
  {
   "cell_type": "code",
   "execution_count": 25,
   "metadata": {},
   "outputs": [],
   "source": [
    "import pandas as pd    \n",
    "import geopandas as gpd\n",
    "from geopandas.tools import geocode\n",
    "import numpy as np\n",
    "import scipy.stats as stats\n",
    "import scipy\n",
    "import seaborn as sns\n",
    "import matplotlib \n",
    "from matplotlib import pyplot as plt\n",
    "matplotlib.rcParams.update({'font.size': 20})"
   ]
  },
  {
   "cell_type": "code",
   "execution_count": 2,
   "metadata": {},
   "outputs": [],
   "source": [
    "import urllib.request as request"
   ]
  },
  {
   "cell_type": "markdown",
   "metadata": {},
   "source": [
    "**Imports all traffic data from 2007 - 2018**\n",
    "\n",
    "Link: https://data.seattle.gov/browse?q=traffic%20flow%20count&sortBy=relevance to download yearly data"
   ]
  },
  {
   "cell_type": "code",
   "execution_count": 26,
   "metadata": {},
   "outputs": [],
   "source": [
    "url_list = ['https://opendata.arcgis.com/datasets/7015d5d46a284f94ac05c2ea4358bcd7_0.geojson',\n",
    "            'https://opendata.arcgis.com/datasets/5fc63b2a48474100b560a7d98b5097d7_1.geojson',\n",
    "            'https://opendata.arcgis.com/datasets/27af9a2485c5442bb061fa7e881d7022_2.geojson',\n",
    "            'https://opendata.arcgis.com/datasets/4f62515558174f53979b3be0335004d3_3.geojson',\n",
    "            'https://opendata.arcgis.com/datasets/29f801d03c9b4b608bca6a8e497278c3_4.geojson',\n",
    "            'https://opendata.arcgis.com/datasets/a0019dd0d6464747a88921f5e103d509_5.geojson',\n",
    "            'https://opendata.arcgis.com/datasets/40bcfbc4054549ebba8b5777bbdd40ff_6.geojson',\n",
    "            'https://opendata.arcgis.com/datasets/16cedd233d914118a275c6510115d466_7.geojson',\n",
    "            'https://opendata.arcgis.com/datasets/902fd604ecf54adf8579894508cacc68_8.geojson',\n",
    "            'https://opendata.arcgis.com/datasets/170b764c52f34c9497720c0463f3b58b_9.geojson',\n",
    "            'https://opendata.arcgis.com/datasets/2c37babc94d64bbb938a9b520bc5538c_10.geojson',\n",
    "            'https://opendata.arcgis.com/datasets/a35aa9249110472ba2c69cc574eff984_11.geojson']\n",
    "    "
   ]
  },
  {
   "cell_type": "code",
   "execution_count": 64,
   "metadata": {},
   "outputs": [],
   "source": [
    "def get_gdf(year):\n",
    "    '''Enter the desired year to download the traffic flow count\n",
    "    data for that year. Example: enter '7' for the year 2007.\n",
    "    '''\n",
    "    num = year-7\n",
    "    gdf_year = gpd.read_file(url_list[num])\n",
    "    if year == 11:\n",
    "        gdf_year = gdf_year.rename(columns={\"YEAR_\" : 'YEAR'})\n",
    "    if year == 12:\n",
    "        gdf_year = gdf_year.rename(columns={'STDY_YEAR' : 'YEAR'})\n",
    "    if year == 15 or year == 16:\n",
    "        gdf_year = gdf_year.rename(columns={\"COUNTAAWDT\" : 'AAWDT', \"FLOWSEGID\" : \"GEOBASID\", 'FIRST_STNAME_ORD' : 'STNAME'})\n",
    "        gdf_year = gdf_year[['AAWDT', 'GEOBASID', 'STNAME', 'SHAPE_Length', 'geometry']]\n",
    "        if year == 15:\n",
    "            year_list = ['2015']*len(gdf_year)\n",
    "            gdf_year['YEAR'] = year_list\n",
    "        elif year == 16:\n",
    "            year_list = ['2016']*len(gdf_year)\n",
    "            gdf_year['YEAR'] = year_list\n",
    "    elif year == 17 or year == 18:\n",
    "        gdf_year = gdf_year.rename(columns={\"AWDT\" : 'AAWDT', \"FLOWSEGID\" : \"GEOBASID\", 'STNAME_ORD' : 'STNAME'})\n",
    "        gdf_year = gdf_year[['AAWDT', 'GEOBASID', 'STNAME', 'SHAPE_Length', 'geometry']]\n",
    "        if year == 17:\n",
    "            year_list = ['2017']*len(gdf_year)\n",
    "            gdf_year['YEAR'] = year_list\n",
    "        elif year == 18:\n",
    "            year_list = ['2016']*len(gdf_year)\n",
    "            gdf_year['YEAR'] = year_list\n",
    "    #df_year_AAWDT = df_year['AAWDT'].values\n",
    "    #df_year_geobase = df_year['GEOBASID'].values\n",
    "    #df_year_dist = df_year['SHAPE_Length'].values\n",
    "    gdf_year = gdf_year[[ 'YEAR', 'AAWDT', 'GEOBASID', 'STNAME', 'SHAPE_Length', 'geometry']]\n",
    "    return gdf_year #, df_year_AAWDT, df_year_geobase, df_year_dist"
   ]
  },
  {
   "cell_type": "code",
   "execution_count": 17,
   "metadata": {},
   "outputs": [],
   "source": [
    "montlake_br_traffic_07 = df_07.loc[df_07['STNAME']=='MONTLAKE BR']"
   ]
  },
  {
   "cell_type": "code",
   "execution_count": 19,
   "metadata": {},
   "outputs": [
    {
     "data": {
      "text/html": [
       "<div>\n",
       "<style scoped>\n",
       "    .dataframe tbody tr th:only-of-type {\n",
       "        vertical-align: middle;\n",
       "    }\n",
       "\n",
       "    .dataframe tbody tr th {\n",
       "        vertical-align: top;\n",
       "    }\n",
       "\n",
       "    .dataframe thead th {\n",
       "        text-align: right;\n",
       "    }\n",
       "</style>\n",
       "<table border=\"1\" class=\"dataframe\">\n",
       "  <thead>\n",
       "    <tr style=\"text-align: right;\">\n",
       "      <th></th>\n",
       "      <th>OBJECTID</th>\n",
       "      <th>GEOBASID</th>\n",
       "      <th>DOWNTOWN</th>\n",
       "      <th>COMPKEY</th>\n",
       "      <th>STNAME</th>\n",
       "      <th>OID_</th>\n",
       "      <th>NAME</th>\n",
       "      <th>YEAR</th>\n",
       "      <th>SEGKEY</th>\n",
       "      <th>AAWDT</th>\n",
       "      <th>INPUT_STUD</th>\n",
       "      <th>HPMS</th>\n",
       "      <th>FLOW_COUNT</th>\n",
       "      <th>SHAPE_Length</th>\n",
       "    </tr>\n",
       "  </thead>\n",
       "  <tbody>\n",
       "    <tr>\n",
       "      <th>197</th>\n",
       "      <td>198</td>\n",
       "      <td>86850010</td>\n",
       "      <td>N</td>\n",
       "      <td>11902</td>\n",
       "      <td>MONTLAKE BR</td>\n",
       "      <td>83</td>\n",
       "      <td>MONTLAKE BR, S/O POINT A</td>\n",
       "      <td>2007</td>\n",
       "      <td>11902</td>\n",
       "      <td>57203</td>\n",
       "      <td>0</td>\n",
       "      <td></td>\n",
       "      <td>Y</td>\n",
       "      <td>1362.081215</td>\n",
       "    </tr>\n",
       "  </tbody>\n",
       "</table>\n",
       "</div>"
      ],
      "text/plain": [
       "     OBJECTID  GEOBASID DOWNTOWN  COMPKEY       STNAME  OID_  \\\n",
       "197       198  86850010        N    11902  MONTLAKE BR    83   \n",
       "\n",
       "                         NAME  YEAR  SEGKEY  AAWDT  INPUT_STUD HPMS  \\\n",
       "197  MONTLAKE BR, S/O POINT A  2007   11902  57203           0        \n",
       "\n",
       "    FLOW_COUNT  SHAPE_Length  \n",
       "197          Y   1362.081215  "
      ]
     },
     "execution_count": 19,
     "metadata": {},
     "output_type": "execute_result"
    }
   ],
   "source": [
    "montlake_br_traffic_07"
   ]
  },
  {
   "cell_type": "code",
   "execution_count": 49,
   "metadata": {},
   "outputs": [],
   "source": [
    "df_048 = get_df(8)"
   ]
  },
  {
   "cell_type": "code",
   "execution_count": 128,
   "metadata": {},
   "outputs": [],
   "source": [
    "def get_st_data(year_list, stname_list):\n",
    "    '''Enter a list of the desired years and street name (as a list of strings) to download the traffic flow count\n",
    "    data for that year. Example: enter '7' for the year 2007. Make sure to enter a list even if only requesting a single \n",
    "    year or street name.'''\n",
    "    all_data = gpd.GeoDataFrame()\n",
    "    for i in range(len(year_list)):\n",
    "        year = year_list[i]\n",
    "        gdf_year = get_gdf(year)\n",
    "        all_data = all_data.append(gdf_year)\n",
    "    st_data_year = gpd.GeoDataFrame()\n",
    "    for j in range(len(stname_list)):\n",
    "        st_data_year = st_data_year.append(all_data.loc[all_data['STNAME'] == stname_list[j]])\n",
    "    return st_data_year"
   ]
  },
  {
   "cell_type": "code",
   "execution_count": 129,
   "metadata": {},
   "outputs": [],
   "source": [
    "montlake_br_data_08 = get_st_data([8, 12], ['MONTLAKE BLVD NE', 'MONTLAKE BR'])"
   ]
  },
  {
   "cell_type": "code",
   "execution_count": 130,
   "metadata": {},
   "outputs": [
    {
     "data": {
      "text/html": [
       "<div>\n",
       "<style scoped>\n",
       "    .dataframe tbody tr th:only-of-type {\n",
       "        vertical-align: middle;\n",
       "    }\n",
       "\n",
       "    .dataframe tbody tr th {\n",
       "        vertical-align: top;\n",
       "    }\n",
       "\n",
       "    .dataframe thead th {\n",
       "        text-align: right;\n",
       "    }\n",
       "</style>\n",
       "<table border=\"1\" class=\"dataframe\">\n",
       "  <thead>\n",
       "    <tr style=\"text-align: right;\">\n",
       "      <th></th>\n",
       "      <th>YEAR</th>\n",
       "      <th>AAWDT</th>\n",
       "      <th>GEOBASID</th>\n",
       "      <th>STNAME</th>\n",
       "      <th>SHAPE_Length</th>\n",
       "      <th>geometry</th>\n",
       "    </tr>\n",
       "  </thead>\n",
       "  <tbody>\n",
       "    <tr>\n",
       "      <th>149</th>\n",
       "      <td>2008.0</td>\n",
       "      <td>46100.0</td>\n",
       "      <td>86950030.0</td>\n",
       "      <td>MONTLAKE BLVD NE</td>\n",
       "      <td>3751.859475</td>\n",
       "      <td>LINESTRING (-122.30459 47.64900, -122.30458 47...</td>\n",
       "    </tr>\n",
       "    <tr>\n",
       "      <th>108</th>\n",
       "      <td>2012.0</td>\n",
       "      <td>42312.0</td>\n",
       "      <td>86950030.0</td>\n",
       "      <td>MONTLAKE BLVD NE</td>\n",
       "      <td>2966.829559</td>\n",
       "      <td>LINESTRING (-122.30391 47.65108, -122.30345 47...</td>\n",
       "    </tr>\n",
       "    <tr>\n",
       "      <th>198</th>\n",
       "      <td>2008.0</td>\n",
       "      <td>57100.0</td>\n",
       "      <td>86850010.0</td>\n",
       "      <td>MONTLAKE BR</td>\n",
       "      <td>1362.081215</td>\n",
       "      <td>LINESTRING (-122.30462 47.64526, -122.30461 47...</td>\n",
       "    </tr>\n",
       "    <tr>\n",
       "      <th>140</th>\n",
       "      <td>2012.0</td>\n",
       "      <td>55764.0</td>\n",
       "      <td>86850010.0</td>\n",
       "      <td>MONTLAKE BR</td>\n",
       "      <td>2147.111130</td>\n",
       "      <td>LINESTRING (-122.30462 47.64526, -122.30461 47...</td>\n",
       "    </tr>\n",
       "  </tbody>\n",
       "</table>\n",
       "</div>"
      ],
      "text/plain": [
       "       YEAR    AAWDT    GEOBASID            STNAME  SHAPE_Length  \\\n",
       "149  2008.0  46100.0  86950030.0  MONTLAKE BLVD NE   3751.859475   \n",
       "108  2012.0  42312.0  86950030.0  MONTLAKE BLVD NE   2966.829559   \n",
       "198  2008.0  57100.0  86850010.0       MONTLAKE BR   1362.081215   \n",
       "140  2012.0  55764.0  86850010.0       MONTLAKE BR   2147.111130   \n",
       "\n",
       "                                              geometry  \n",
       "149  LINESTRING (-122.30459 47.64900, -122.30458 47...  \n",
       "108  LINESTRING (-122.30391 47.65108, -122.30345 47...  \n",
       "198  LINESTRING (-122.30462 47.64526, -122.30461 47...  \n",
       "140  LINESTRING (-122.30462 47.64526, -122.30461 47...  "
      ]
     },
     "execution_count": 130,
     "metadata": {},
     "output_type": "execute_result"
    }
   ],
   "source": [
    "montlake_br_data_08"
   ]
  }
 ],
 "metadata": {
  "kernelspec": {
   "display_name": "Python 3",
   "language": "python",
   "name": "python3"
  },
  "language_info": {
   "codemirror_mode": {
    "name": "ipython",
    "version": 3
   },
   "file_extension": ".py",
   "mimetype": "text/x-python",
   "name": "python",
   "nbconvert_exporter": "python",
   "pygments_lexer": "ipython3",
   "version": "3.8.8"
  }
 },
 "nbformat": 4,
 "nbformat_minor": 4
}

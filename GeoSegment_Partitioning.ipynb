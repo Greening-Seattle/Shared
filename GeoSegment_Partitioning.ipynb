{
 "cells": [
  {
   "cell_type": "code",
   "execution_count": 17,
   "id": "authorized-excellence",
   "metadata": {},
   "outputs": [],
   "source": [
    "import pandas as pd    \n",
    "import geopandas as gpd\n",
    "from geopandas.tools import geocode\n",
    "import numpy as np\n",
    "import scipy.stats as stats\n",
    "import scipy\n",
    "import shapely\n",
    "from shapely import speedups\n",
    "speedups.enabled\n",
    "import seaborn as sns\n",
    "import matplotlib \n",
    "from matplotlib import pyplot as plt\n",
    "matplotlib.rcParams.update({'font.size': 20})"
   ]
  },
  {
   "cell_type": "code",
   "execution_count": 18,
   "id": "indoor-dragon",
   "metadata": {},
   "outputs": [],
   "source": [
    "import urllib.request as request"
   ]
  },
  {
   "cell_type": "code",
   "execution_count": 25,
   "id": "liquid-journal",
   "metadata": {},
   "outputs": [],
   "source": [
    "url_list = ['https://opendata.arcgis.com/datasets/7015d5d46a284f94ac05c2ea4358bcd7_0.geojson',\n",
    "            'https://opendata.arcgis.com/datasets/5fc63b2a48474100b560a7d98b5097d7_1.geojson',\n",
    "            'https://opendata.arcgis.com/datasets/27af9a2485c5442bb061fa7e881d7022_2.geojson',\n",
    "            'https://opendata.arcgis.com/datasets/4f62515558174f53979b3be0335004d3_3.geojson',\n",
    "            'https://opendata.arcgis.com/datasets/29f801d03c9b4b608bca6a8e497278c3_4.geojson',\n",
    "            'https://opendata.arcgis.com/datasets/a0019dd0d6464747a88921f5e103d509_5.geojson',\n",
    "            'https://opendata.arcgis.com/datasets/40bcfbc4054549ebba8b5777bbdd40ff_6.geojson',\n",
    "            'https://opendata.arcgis.com/datasets/16cedd233d914118a275c6510115d466_7.geojson',\n",
    "            'https://opendata.arcgis.com/datasets/902fd604ecf54adf8579894508cacc68_8.geojson',\n",
    "            'https://opendata.arcgis.com/datasets/170b764c52f34c9497720c0463f3b58b_9.geojson',\n",
    "            'https://opendata.arcgis.com/datasets/2c37babc94d64bbb938a9b520bc5538c_10.geojson',\n",
    "            'https://opendata.arcgis.com/datasets/a35aa9249110472ba2c69cc574eff984_11.geojson']\n",
    "    "
   ]
  },
  {
   "cell_type": "code",
   "execution_count": 19,
   "id": "impaired-arnold",
   "metadata": {},
   "outputs": [],
   "source": [
    "def get_census_bounds():\n",
    "    url = 'https://opendata.arcgis.com/datasets/de58dc3e1efc49b782ab357e044ea20c_9.geojson'\n",
    "    bounds = gpd.read_file(url)\n",
    "    return bounds"
   ]
  },
  {
   "cell_type": "code",
   "execution_count": 27,
   "id": "sized-kentucky",
   "metadata": {},
   "outputs": [],
   "source": [
    "def get_gdf(year):\n",
    "    '''Enter the desired year to download the traffic flow count\n",
    "    data for that year. Example: enter '7' for the year 2007.\n",
    "    '''\n",
    "    num = year-7\n",
    "    gdf_year = gpd.read_file(url_list[num])\n",
    "    if year == 11:\n",
    "        gdf_year = gdf_year.rename(columns={\"YEAR_\" : 'YEAR'})\n",
    "    if year == 12:\n",
    "        gdf_year = gdf_year.rename(columns={'STDY_YEAR' : 'YEAR'})\n",
    "    if year == 15 or year == 16:\n",
    "        gdf_year = gdf_year.rename(columns={\"COUNTAAWDT\" : 'AAWDT', \"FLOWSEGID\" : \"GEOBASID\", 'FIRST_STNAME_ORD' : 'STNAME'})\n",
    "        gdf_year = gdf_year[['AAWDT', 'GEOBASID', 'STNAME', 'SHAPE_Length', 'geometry']]\n",
    "        if year == 15:\n",
    "            year_list = ['2015']*len(gdf_year)\n",
    "            gdf_year['YEAR'] = year_list\n",
    "        elif year == 16:\n",
    "            year_list = ['2016']*len(gdf_year)\n",
    "            gdf_year['YEAR'] = year_list\n",
    "    elif year == 17 or year == 18:\n",
    "        gdf_year = gdf_year.rename(columns={\"AWDT\" : 'AAWDT', \"FLOWSEGID\" : \"GEOBASID\", 'STNAME_ORD' : 'STNAME'})\n",
    "        gdf_year = gdf_year[['AAWDT', 'GEOBASID', 'STNAME', 'SHAPE_Length', 'geometry']]\n",
    "        if year == 17:\n",
    "            year_list = ['2017']*len(gdf_year)\n",
    "            gdf_year['YEAR'] = year_list\n",
    "        elif year == 18:\n",
    "            year_list = ['2016']*len(gdf_year)\n",
    "            gdf_year['YEAR'] = year_list\n",
    "    #df_year_AAWDT = df_year['AAWDT'].values\n",
    "    #df_year_geobase = df_year['GEOBASID'].values\n",
    "    #df_year_dist = df_year['SHAPE_Length'].values\n",
    "    gdf_year = gdf_year[[ 'YEAR', 'AAWDT', 'GEOBASID', 'STNAME', 'SHAPE_Length', 'geometry']]\n",
    "    return gdf_year #, df_year_AAWDT, df_year_geobase, df_year_dist"
   ]
  },
  {
   "cell_type": "code",
   "execution_count": 5,
   "id": "increased-bradford",
   "metadata": {},
   "outputs": [],
   "source": [
    "census_bounds = get_census_bounds()"
   ]
  },
  {
   "cell_type": "code",
   "execution_count": 6,
   "id": "english-engagement",
   "metadata": {},
   "outputs": [
    {
     "data": {
      "text/html": [
       "<div>\n",
       "<style scoped>\n",
       "    .dataframe tbody tr th:only-of-type {\n",
       "        vertical-align: middle;\n",
       "    }\n",
       "\n",
       "    .dataframe tbody tr th {\n",
       "        vertical-align: top;\n",
       "    }\n",
       "\n",
       "    .dataframe thead th {\n",
       "        text-align: right;\n",
       "    }\n",
       "</style>\n",
       "<table border=\"1\" class=\"dataframe\">\n",
       "  <thead>\n",
       "    <tr style=\"text-align: right;\">\n",
       "      <th></th>\n",
       "      <th>OBJECTID</th>\n",
       "      <th>TRACT</th>\n",
       "      <th>TRACTCE10</th>\n",
       "      <th>GEOID10</th>\n",
       "      <th>NAME10</th>\n",
       "      <th>NAMELSAD10</th>\n",
       "      <th>ACRES_TOTAL</th>\n",
       "      <th>WATER</th>\n",
       "      <th>SHAPE_Length</th>\n",
       "      <th>SHAPE_Area</th>\n",
       "      <th>geometry</th>\n",
       "    </tr>\n",
       "  </thead>\n",
       "  <tbody>\n",
       "    <tr>\n",
       "      <th>0</th>\n",
       "      <td>1</td>\n",
       "      <td>2500</td>\n",
       "      <td>002500</td>\n",
       "      <td>53033002500</td>\n",
       "      <td>25</td>\n",
       "      <td>Census Tract 25</td>\n",
       "      <td>243.219083</td>\n",
       "      <td>0</td>\n",
       "      <td>16442.968402</td>\n",
       "      <td>1.059462e+07</td>\n",
       "      <td>POLYGON ((-122.29602 47.69023, -122.29608 47.6...</td>\n",
       "    </tr>\n",
       "    <tr>\n",
       "      <th>1</th>\n",
       "      <td>2</td>\n",
       "      <td>2600</td>\n",
       "      <td>002600</td>\n",
       "      <td>53033002600</td>\n",
       "      <td>26</td>\n",
       "      <td>Census Tract 26</td>\n",
       "      <td>307.584420</td>\n",
       "      <td>0</td>\n",
       "      <td>15936.137058</td>\n",
       "      <td>1.339838e+07</td>\n",
       "      <td>POLYGON ((-122.30817 47.69031, -122.30947 47.6...</td>\n",
       "    </tr>\n",
       "    <tr>\n",
       "      <th>2</th>\n",
       "      <td>3</td>\n",
       "      <td>5600</td>\n",
       "      <td>005600</td>\n",
       "      <td>53033005600</td>\n",
       "      <td>56</td>\n",
       "      <td>Census Tract 56</td>\n",
       "      <td>737.511727</td>\n",
       "      <td>0</td>\n",
       "      <td>30337.294354</td>\n",
       "      <td>3.212601e+07</td>\n",
       "      <td>POLYGON ((-122.39300 47.63956, -122.39421 47.6...</td>\n",
       "    </tr>\n",
       "    <tr>\n",
       "      <th>3</th>\n",
       "      <td>4</td>\n",
       "      <td>6800</td>\n",
       "      <td>006800</td>\n",
       "      <td>53033006800</td>\n",
       "      <td>68</td>\n",
       "      <td>Census Tract 68</td>\n",
       "      <td>177.438771</td>\n",
       "      <td>0</td>\n",
       "      <td>11275.376490</td>\n",
       "      <td>7.729233e+06</td>\n",
       "      <td>POLYGON ((-122.35070 47.63994, -122.35130 47.6...</td>\n",
       "    </tr>\n",
       "    <tr>\n",
       "      <th>4</th>\n",
       "      <td>5</td>\n",
       "      <td>6000</td>\n",
       "      <td>006000</td>\n",
       "      <td>53033006000</td>\n",
       "      <td>60</td>\n",
       "      <td>Census Tract 60</td>\n",
       "      <td>324.567432</td>\n",
       "      <td>0</td>\n",
       "      <td>19729.922875</td>\n",
       "      <td>1.413816e+07</td>\n",
       "      <td>POLYGON ((-122.34279 47.64320, -122.34280 47.6...</td>\n",
       "    </tr>\n",
       "  </tbody>\n",
       "</table>\n",
       "</div>"
      ],
      "text/plain": [
       "   OBJECTID  TRACT TRACTCE10      GEOID10 NAME10       NAMELSAD10  \\\n",
       "0         1   2500    002500  53033002500     25  Census Tract 25   \n",
       "1         2   2600    002600  53033002600     26  Census Tract 26   \n",
       "2         3   5600    005600  53033005600     56  Census Tract 56   \n",
       "3         4   6800    006800  53033006800     68  Census Tract 68   \n",
       "4         5   6000    006000  53033006000     60  Census Tract 60   \n",
       "\n",
       "   ACRES_TOTAL  WATER  SHAPE_Length    SHAPE_Area  \\\n",
       "0   243.219083      0  16442.968402  1.059462e+07   \n",
       "1   307.584420      0  15936.137058  1.339838e+07   \n",
       "2   737.511727      0  30337.294354  3.212601e+07   \n",
       "3   177.438771      0  11275.376490  7.729233e+06   \n",
       "4   324.567432      0  19729.922875  1.413816e+07   \n",
       "\n",
       "                                            geometry  \n",
       "0  POLYGON ((-122.29602 47.69023, -122.29608 47.6...  \n",
       "1  POLYGON ((-122.30817 47.69031, -122.30947 47.6...  \n",
       "2  POLYGON ((-122.39300 47.63956, -122.39421 47.6...  \n",
       "3  POLYGON ((-122.35070 47.63994, -122.35130 47.6...  \n",
       "4  POLYGON ((-122.34279 47.64320, -122.34280 47.6...  "
      ]
     },
     "execution_count": 6,
     "metadata": {},
     "output_type": "execute_result"
    }
   ],
   "source": [
    "census_bounds.head()"
   ]
  },
  {
   "cell_type": "code",
   "execution_count": 40,
   "id": "cosmetic-chase",
   "metadata": {},
   "outputs": [],
   "source": [
    "census_selection = census_bounds.loc[census_bounds['NAME10'] == '53.02']"
   ]
  },
  {
   "cell_type": "code",
   "execution_count": 41,
   "id": "charged-kenya",
   "metadata": {},
   "outputs": [
    {
     "data": {
      "text/html": [
       "<div>\n",
       "<style scoped>\n",
       "    .dataframe tbody tr th:only-of-type {\n",
       "        vertical-align: middle;\n",
       "    }\n",
       "\n",
       "    .dataframe tbody tr th {\n",
       "        vertical-align: top;\n",
       "    }\n",
       "\n",
       "    .dataframe thead th {\n",
       "        text-align: right;\n",
       "    }\n",
       "</style>\n",
       "<table border=\"1\" class=\"dataframe\">\n",
       "  <thead>\n",
       "    <tr style=\"text-align: right;\">\n",
       "      <th></th>\n",
       "      <th>OBJECTID</th>\n",
       "      <th>TRACT</th>\n",
       "      <th>TRACTCE10</th>\n",
       "      <th>GEOID10</th>\n",
       "      <th>NAME10</th>\n",
       "      <th>NAMELSAD10</th>\n",
       "      <th>ACRES_TOTAL</th>\n",
       "      <th>WATER</th>\n",
       "      <th>SHAPE_Length</th>\n",
       "      <th>SHAPE_Area</th>\n",
       "      <th>geometry</th>\n",
       "    </tr>\n",
       "  </thead>\n",
       "  <tbody>\n",
       "    <tr>\n",
       "      <th>84</th>\n",
       "      <td>128</td>\n",
       "      <td>5302</td>\n",
       "      <td>005302</td>\n",
       "      <td>53033005302</td>\n",
       "      <td>53.02</td>\n",
       "      <td>Census Tract 53.02</td>\n",
       "      <td>577.317916</td>\n",
       "      <td>0</td>\n",
       "      <td>33889.310995</td>\n",
       "      <td>2.514797e+07</td>\n",
       "      <td>POLYGON ((-122.30653 47.66126, -122.30725 47.6...</td>\n",
       "    </tr>\n",
       "  </tbody>\n",
       "</table>\n",
       "</div>"
      ],
      "text/plain": [
       "    OBJECTID  TRACT TRACTCE10      GEOID10 NAME10          NAMELSAD10  \\\n",
       "84       128   5302    005302  53033005302  53.02  Census Tract 53.02   \n",
       "\n",
       "    ACRES_TOTAL  WATER  SHAPE_Length    SHAPE_Area  \\\n",
       "84   577.317916      0  33889.310995  2.514797e+07   \n",
       "\n",
       "                                             geometry  \n",
       "84  POLYGON ((-122.30653 47.66126, -122.30725 47.6...  "
      ]
     },
     "execution_count": 41,
     "metadata": {},
     "output_type": "execute_result"
    }
   ],
   "source": [
    "census_selection"
   ]
  },
  {
   "cell_type": "code",
   "execution_count": 42,
   "id": "standing-commerce",
   "metadata": {},
   "outputs": [
    {
     "data": {
      "text/plain": [
       "<AxesSubplot:>"
      ]
     },
     "execution_count": 42,
     "metadata": {},
     "output_type": "execute_result"
    },
    {
     "data": {
      "image/png": "[encoded data removed]",
      "text/plain": [
       "<Figure size 432x288 with 1 Axes>"
      ]
     },
     "metadata": {
      "needs_background": "light"
     },
     "output_type": "display_data"
    }
   ],
   "source": [
    "fig, ax = plt.subplots()\n",
    "\n",
    "census_bounds.plot(ax=ax, facecolor='gray')\n",
    "census_selection.plot(ax=ax, facecolor='red')"
   ]
  },
  {
   "cell_type": "code",
   "execution_count": 24,
   "id": "disturbed-orlando",
   "metadata": {},
   "outputs": [],
   "source": [
    "import get_geodata"
   ]
  },
  {
   "cell_type": "code",
   "execution_count": 43,
   "id": "engaged-maximum",
   "metadata": {},
   "outputs": [
    {
     "data": {
      "text/html": [
       "<div>\n",
       "<style scoped>\n",
       "    .dataframe tbody tr th:only-of-type {\n",
       "        vertical-align: middle;\n",
       "    }\n",
       "\n",
       "    .dataframe tbody tr th {\n",
       "        vertical-align: top;\n",
       "    }\n",
       "\n",
       "    .dataframe thead th {\n",
       "        text-align: right;\n",
       "    }\n",
       "</style>\n",
       "<table border=\"1\" class=\"dataframe\">\n",
       "  <thead>\n",
       "    <tr style=\"text-align: right;\">\n",
       "      <th></th>\n",
       "      <th>YEAR</th>\n",
       "      <th>AAWDT</th>\n",
       "      <th>GEOBASID</th>\n",
       "      <th>STNAME</th>\n",
       "      <th>SHAPE_Length</th>\n",
       "      <th>geometry</th>\n",
       "    </tr>\n",
       "  </thead>\n",
       "  <tbody>\n",
       "    <tr>\n",
       "      <th>0</th>\n",
       "      <td>2015</td>\n",
       "      <td>24000.0</td>\n",
       "      <td>2028.0</td>\n",
       "      <td>W SEA BR EB 4 AV OFF RP</td>\n",
       "      <td>1458.971527</td>\n",
       "      <td>LINESTRING (-122.33092 47.57152, -122.33054 47...</td>\n",
       "    </tr>\n",
       "    <tr>\n",
       "      <th>1</th>\n",
       "      <td>2015</td>\n",
       "      <td>38000.0</td>\n",
       "      <td>2029.0</td>\n",
       "      <td>MYERS WAY S</td>\n",
       "      <td>335.499087</td>\n",
       "      <td>LINESTRING (-122.33484 47.52232, -122.33482 47...</td>\n",
       "    </tr>\n",
       "    <tr>\n",
       "      <th>2</th>\n",
       "      <td>2015</td>\n",
       "      <td>13000.0</td>\n",
       "      <td>2030.0</td>\n",
       "      <td>S CLOVERDALE ST</td>\n",
       "      <td>987.546181</td>\n",
       "      <td>LINESTRING (-122.32820 47.52648, -122.32961 47...</td>\n",
       "    </tr>\n",
       "    <tr>\n",
       "      <th>3</th>\n",
       "      <td>2015</td>\n",
       "      <td>11000.0</td>\n",
       "      <td>2031.0</td>\n",
       "      <td>S CLOVERDALE ST</td>\n",
       "      <td>1305.323633</td>\n",
       "      <td>LINESTRING (-122.32292 47.52647, -122.32377 47...</td>\n",
       "    </tr>\n",
       "    <tr>\n",
       "      <th>4</th>\n",
       "      <td>2015</td>\n",
       "      <td>12200.0</td>\n",
       "      <td>2032.0</td>\n",
       "      <td>M L KING JR WAY S</td>\n",
       "      <td>609.897683</td>\n",
       "      <td>LINESTRING (-122.28085 47.53540, -122.28087 47...</td>\n",
       "    </tr>\n",
       "  </tbody>\n",
       "</table>\n",
       "</div>"
      ],
      "text/plain": [
       "   YEAR    AAWDT  GEOBASID                   STNAME  SHAPE_Length  \\\n",
       "0  2015  24000.0    2028.0  W SEA BR EB 4 AV OFF RP   1458.971527   \n",
       "1  2015  38000.0    2029.0              MYERS WAY S    335.499087   \n",
       "2  2015  13000.0    2030.0          S CLOVERDALE ST    987.546181   \n",
       "3  2015  11000.0    2031.0          S CLOVERDALE ST   1305.323633   \n",
       "4  2015  12200.0    2032.0        M L KING JR WAY S    609.897683   \n",
       "\n",
       "                                            geometry  \n",
       "0  LINESTRING (-122.33092 47.57152, -122.33054 47...  \n",
       "1  LINESTRING (-122.33484 47.52232, -122.33482 47...  \n",
       "2  LINESTRING (-122.32820 47.52648, -122.32961 47...  \n",
       "3  LINESTRING (-122.32292 47.52647, -122.32377 47...  \n",
       "4  LINESTRING (-122.28085 47.53540, -122.28087 47...  "
      ]
     },
     "execution_count": 43,
     "metadata": {},
     "output_type": "execute_result"
    }
   ],
   "source": [
    "gdf_15 = get_gdf(15)\n",
    "gdf_15.head()"
   ]
  },
  {
   "cell_type": "code",
   "execution_count": 49,
   "id": "expired-anniversary",
   "metadata": {},
   "outputs": [
    {
     "name": "stdout",
     "output_type": "stream",
     "text": [
      "0       False\n",
      "1       False\n",
      "2       False\n",
      "3       False\n",
      "4       False\n",
      "        ...  \n",
      "1855    False\n",
      "1856    False\n",
      "1857    False\n",
      "1858    False\n",
      "1859    False\n",
      "Length: 1860, dtype: bool\n"
     ]
    }
   ],
   "source": [
    "Udist_mask = gdf_15.within(census_selection.at[84, 'geometry'])\n",
    "print(pip_mask)"
   ]
  },
  {
   "cell_type": "code",
   "execution_count": 50,
   "id": "stuck-enough",
   "metadata": {},
   "outputs": [
    {
     "data": {
      "text/html": [
       "<div>\n",
       "<style scoped>\n",
       "    .dataframe tbody tr th:only-of-type {\n",
       "        vertical-align: middle;\n",
       "    }\n",
       "\n",
       "    .dataframe tbody tr th {\n",
       "        vertical-align: top;\n",
       "    }\n",
       "\n",
       "    .dataframe thead th {\n",
       "        text-align: right;\n",
       "    }\n",
       "</style>\n",
       "<table border=\"1\" class=\"dataframe\">\n",
       "  <thead>\n",
       "    <tr style=\"text-align: right;\">\n",
       "      <th></th>\n",
       "      <th>YEAR</th>\n",
       "      <th>AAWDT</th>\n",
       "      <th>GEOBASID</th>\n",
       "      <th>STNAME</th>\n",
       "      <th>SHAPE_Length</th>\n",
       "      <th>geometry</th>\n",
       "    </tr>\n",
       "  </thead>\n",
       "  <tbody>\n",
       "    <tr>\n",
       "      <th>64</th>\n",
       "      <td>2015</td>\n",
       "      <td>21672.12064</td>\n",
       "      <td>1960.0</td>\n",
       "      <td>NE PACIFIC ST</td>\n",
       "      <td>426.892327</td>\n",
       "      <td>LINESTRING (-122.30597 47.64970, -122.30515 47...</td>\n",
       "    </tr>\n",
       "    <tr>\n",
       "      <th>65</th>\n",
       "      <td>2015</td>\n",
       "      <td>24000.00000</td>\n",
       "      <td>1961.0</td>\n",
       "      <td>EASTLAKE AVE NE</td>\n",
       "      <td>225.306037</td>\n",
       "      <td>LINESTRING (-122.31784 47.65602, -122.31797 47...</td>\n",
       "    </tr>\n",
       "    <tr>\n",
       "      <th>561</th>\n",
       "      <td>2015</td>\n",
       "      <td>43594.80300</td>\n",
       "      <td>1412.0</td>\n",
       "      <td>MONTLAKE BLVD NE</td>\n",
       "      <td>2966.829559</td>\n",
       "      <td>LINESTRING (-122.30114 47.65898, -122.30207 47...</td>\n",
       "    </tr>\n",
       "    <tr>\n",
       "      <th>572</th>\n",
       "      <td>2015</td>\n",
       "      <td>31500.00000</td>\n",
       "      <td>1423.0</td>\n",
       "      <td>MONTLAKE BLVD NE</td>\n",
       "      <td>575.275702</td>\n",
       "      <td>LINESTRING (-122.30001 47.66035, -122.30004 47...</td>\n",
       "    </tr>\n",
       "    <tr>\n",
       "      <th>573</th>\n",
       "      <td>2015</td>\n",
       "      <td>19500.00000</td>\n",
       "      <td>1424.0</td>\n",
       "      <td>25TH AVE NE</td>\n",
       "      <td>560.713939</td>\n",
       "      <td>LINESTRING (-122.30114 47.65898, -122.30106 47...</td>\n",
       "    </tr>\n",
       "  </tbody>\n",
       "</table>\n",
       "</div>"
      ],
      "text/plain": [
       "     YEAR        AAWDT  GEOBASID            STNAME  SHAPE_Length  \\\n",
       "64   2015  21672.12064    1960.0     NE PACIFIC ST    426.892327   \n",
       "65   2015  24000.00000    1961.0   EASTLAKE AVE NE    225.306037   \n",
       "561  2015  43594.80300    1412.0  MONTLAKE BLVD NE   2966.829559   \n",
       "572  2015  31500.00000    1423.0  MONTLAKE BLVD NE    575.275702   \n",
       "573  2015  19500.00000    1424.0       25TH AVE NE    560.713939   \n",
       "\n",
       "                                              geometry  \n",
       "64   LINESTRING (-122.30597 47.64970, -122.30515 47...  \n",
       "65   LINESTRING (-122.31784 47.65602, -122.31797 47...  \n",
       "561  LINESTRING (-122.30114 47.65898, -122.30207 47...  \n",
       "572  LINESTRING (-122.30001 47.66035, -122.30004 47...  \n",
       "573  LINESTRING (-122.30114 47.65898, -122.30106 47...  "
      ]
     },
     "execution_count": 50,
     "metadata": {},
     "output_type": "execute_result"
    }
   ],
   "source": [
    "Udist_data = gdf_15.loc[pip_mask]\n",
    "Udist_data.head()"
   ]
  },
  {
   "cell_type": "code",
   "execution_count": 51,
   "id": "common-proposal",
   "metadata": {},
   "outputs": [
    {
     "data": {
      "text/plain": [
       "<AxesSubplot:>"
      ]
     },
     "execution_count": 51,
     "metadata": {},
     "output_type": "execute_result"
    },
    {
     "data": {
      "image/png": "[encoded data removed]",
      "text/plain": [
       "<Figure size 432x288 with 1 Axes>"
      ]
     },
     "metadata": {
      "needs_background": "light"
     },
     "output_type": "display_data"
    }
   ],
   "source": [
    "Udist_data.plot()"
   ]
  },
  {
   "cell_type": "code",
   "execution_count": null,
   "id": "straight-panel",
   "metadata": {},
   "outputs": [],
   "source": []
  }
 ],
 "metadata": {
  "kernelspec": {
   "display_name": "Python 3",
   "language": "python",
   "name": "python3"
  },
  "language_info": {
   "codemirror_mode": {
    "name": "ipython",
    "version": 3
   },
   "file_extension": ".py",
   "mimetype": "text/x-python",
   "name": "python",
   "nbconvert_exporter": "python",
   "pygments_lexer": "ipython3",
   "version": "3.8.8"
  }
 },
 "nbformat": 4,
 "nbformat_minor": 5
}
